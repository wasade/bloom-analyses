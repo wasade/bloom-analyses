{
 "cells": [
  {
   "cell_type": "markdown",
   "metadata": {},
   "source": [
    "# Identify the candidate blooming bacteria\n",
    "\n",
    "The goal of this notebook is to identify candidate bacteria (as observed by 16S rRNA V4 reads) which appear to bloom under shipping conditions. We identify candidates in two parts: first, we'll look for bacteria which grew at room temperature in storage studies; second, we'll look at shipped American Gut fecal samples and compared them to fresh-frozen fecal samples. We use the combined technique because the storage studies were limited in sample size and individuals, while the comparison with fresh-frozen studies offers many more individuals and samples. \n",
    "\n",
    "Briefly, this process will involve the following steps:\n",
    "\n",
    "1. Load the datasets:\n",
    "\n",
    "    1. Preservation study (Song [1](#1); Qiita ID [10389](https://qiita.ucsd.edu/study/description/10394))\n",
    "    2. Mayo Clinic Fecal Stability (Mayo [2](#2); Qiita ID [10184](https://qiita.ucsd.edu/study/description/10184))\n",
    "    3. The American Gut Project (AGP; Qiita ID [10317](https://qiita.ucsd.edu/study/description/10317))\n",
    "    4. The Personal Genome Project (PGP; Qiita ID [1189](https://qiita.ucsd.edu/study/description/1189))\n",
    "    5. Human Genetics and the Gut Microbiome (Twins [3](#3); Qiita ID [2014](https://qiita.ucsd.edu/study/description/2014))\n",
    "    6. A Whole Grain diet study (ERC [4](#4); Qiita ID [1481](https://qiita.ucsd.edu/study/description/1481))\n",
    "    \n",
    "2. Calculate the fold change per sOTU in the storage studies (Mayo and Song) over time\n",
    "3. Calculate the fold change in the AGP compared to fresh-frozen studies (PGP, Twins, and ERC)\n",
    "4. Identify candidate blooming bacteria by combining the fold changes in steps 2 and 3\n",
    "5. Plot the scatter of the fold change per sOTU with highlighting the candidate blooming bacteria\n",
    "6. Plot taxonomy plots before and after filtering for blooms on the American Gut and fresh frozen studies.\n",
    "\n",
    "Let's start by loading the necessary Python functions. "
   ]
  },
  {
   "cell_type": "code",
   "execution_count": 1,
   "metadata": {
    "collapsed": false,
    "scrolled": true
   },
   "outputs": [],
   "source": [
    "import hashlib\n",
    "\n",
    "import matplotlib as mpl\n",
    "mpl.use('Agg')\n",
    "\n",
    "# load modules used in the analysis\n",
    "import biom\n",
    "import matplotlib.pyplot as plt\n",
    "import numpy as np\n",
    "import pandas as pd\n",
    "import seaborn as sn\n",
    "import skbio\n",
    "from skbio.stats.composition import closure\n",
    "\n",
    "\n",
    "from bloom.stats import permutation_mean\n",
    "\n",
    "# plots inside the notebook\n",
    "%matplotlib notebook\n",
    "\n",
    "from statsmodels.sandbox.stats.multicomp import multipletests\n",
    "# set the random seed\n",
    "np.random.seed(2016)"
   ]
  },
  {
   "cell_type": "code",
   "execution_count": 2,
   "metadata": {
    "collapsed": true,
    "scrolled": true
   },
   "outputs": [],
   "source": [
    "import pandas as pd\n",
    "import numpy as np\n",
    "\n",
    "def exploding_panda(_bt):\n",
    "    \"\"\"BIOM to pandas DataFrame \n",
    "\n",
    "    Parameters\n",
    "    ----------\n",
    "    _bt : biom.Table\n",
    "        BIOM table\n",
    "\n",
    "    Returns\n",
    "    -------\n",
    "    pandas.DataFrame\n",
    "        The BIOM table converted into a DataFrame\n",
    "        object.\n",
    "\n",
    "    References\n",
    "    ----------\n",
    "    Based on this answer on SO:\n",
    "    http://stackoverflow.com/a/17819427/379593\n",
    "    \"\"\"\n",
    "    m = _bt.matrix_data\n",
    "    #data = [pd.SparseSeries(m[i].toarray().ravel()) for i in np.arange(m.shape[0])]\n",
    "    data = m.toarray()\n",
    "    return pd.DataFrame(data, index=_bt.ids('observation'),\n",
    "                        columns=_bt.ids('sample'))\n",
    "\n",
    "    return out"
   ]
  },
  {
   "cell_type": "markdown",
   "metadata": {},
   "source": [
    "# Loading all experimental data"
   ]
  },
  {
   "cell_type": "markdown",
   "metadata": {},
   "source": [
    "We'll write a quick function to load the data. We'll load the BIOM table (`biom_fp`). We'll load the specified metadata columns (`meta_fp` and `keep_columns`). Then, we'll filter the data to include only samples with at least 1000 counts/sample (`depth`) and that fit the filtering criteria (`filters`). Finally, we'll add information about the study and preservation method to make later analysis easier."
   ]
  },
  {
   "cell_type": "code",
   "execution_count": 3,
   "metadata": {
    "collapsed": true,
    "scrolled": true
   },
   "outputs": [],
   "source": [
    "def load_studies(biom_fp, meta_fp, name, preservation, keep_columns=None, \n",
    "                 filters=None, depth=1000):\n",
    "    \"\"\"Loads the studies more easily\n",
    "    \n",
    "    Parameters\n",
    "    ----------\n",
    "    biom_fp : str\n",
    "        The filepath to the BIOM table\n",
    "    meta_fp : str\n",
    "        The filepath to the mapping file\n",
    "    name : str\n",
    "        The name of the study\n",
    "    preservation : {\"NONE\", \"STORAGE\", \"FRESH_FROZEN\"}\n",
    "        Denotes what preservation method, if any, was used.\n",
    "    keep_columns : list of str\n",
    "        The columns within the mapping file to retain.\n",
    "    filters : dict\n",
    "        Any filters to apply to the metadata\n",
    "    depth : int\n",
    "        A sequencing depth to rarefy to.\n",
    "    \"\"\"\n",
    "    if filters is None:\n",
    "        filters = {}\n",
    "        \n",
    "    # Loads the mapping file\n",
    "    if keep_columns == None:\n",
    "        meta = pd.read_csv(meta_fp, sep='\\t', dtype=str)\n",
    "    else:\n",
    "        meta = pd.read_csv(meta_fp, sep='\\t', dtype=str, usecols=keep_columns)\n",
    "    meta.set_index('#SampleID', inplace=True)\n",
    "    \n",
    "    # Loads the biom table\n",
    "    sotu = biom.load_table(biom_fp)\n",
    "\n",
    "    # We'll first filter the table by sequencing depth\n",
    "    sotu = sotu.filter(lambda val, id_, md: val.sum() > depth, axis='sample')\n",
    "    meta = meta.loc[sotu.ids(axis='sample')]\n",
    "    \n",
    "    # Filters the samples\n",
    "    def filter_meta(x):\n",
    "        return np.all([x[k] == v for k, v in filters.items()])\n",
    "    \n",
    "    meta_f = meta.loc[meta.apply(filter_meta, axis=1)].copy()\n",
    "    meta_f['STUDY'] = name\n",
    "    meta_f['PRESERVATION'] = preservation\n",
    "    sotu_f = sotu.filter(meta_f.index)\n",
    "    \n",
    "    return meta_f, sotu_f"
   ]
  },
  {
   "cell_type": "markdown",
   "metadata": {},
   "source": [
    "## Song fecal stability study\n",
    "\n",
    "The Song fecal stability study [[1](#1)] compares the stability of human and dog fecal samples under a variety of storage conditions. For the purposes of candidate bloom identification *for human specimens*, we will only use samples which originated from humans.\n",
    "\n",
    "We will only use samples with no preservative stored at ambient temperature for 7, 14 and 28 days (compared to samples sequenced at day 0)."
   ]
  },
  {
   "cell_type": "code",
   "execution_count": 4,
   "metadata": {
    "collapsed": false,
    "scrolled": true
   },
   "outputs": [],
   "source": [
    "song_meta, song_sotu = load_studies(\n",
    "    biom_fp = '../data/storage.sejin.clean.withtax.biom',\n",
    "    meta_fp = '../data/map.storage.sejin.txt',\n",
    "    name='SONG',\n",
    "    preservation='STORAGE',\n",
    "    keep_columns=['#SampleID', 'preservative', 'temperature', 'temp2', 'species', \n",
    "                  'time_numeric', 'subject'],\n",
    "    filters={'preservative': 'None',\n",
    "             'temperature': 'amb',\n",
    "             'species': 'human'},\n",
    "    )"
   ]
  },
  {
   "cell_type": "markdown",
   "metadata": {},
   "source": [
    "The sample is filtered to only include perservative-free samples from humans stored at room temperature. These include samples collected at day 0 and immediately sequenced, which we use as a reference. We will only use samples with at least 1000 sequences."
   ]
  },
  {
   "cell_type": "markdown",
   "metadata": {},
   "source": [
    "## Mayo fecal stability study"
   ]
  },
  {
   "cell_type": "markdown",
   "metadata": {},
   "source": [
    "The Mayo fecal stability study [[2](#2)] compares the effect of different storage conditions on human fecal samples. Samples were stored at room temperature with or without perservatives. We'll only look at samples without perservative."
   ]
  },
  {
   "cell_type": "code",
   "execution_count": 5,
   "metadata": {
    "collapsed": false,
    "scrolled": true
   },
   "outputs": [],
   "source": [
    "mayo_meta, mayo_sotu = load_studies(\n",
    "    biom_fp = '../data/mayo.new.min10.clean.withtax.biom',\n",
    "    meta_fp = '../data/map.mayo1.txt',\n",
    "    name='MAYO_STORAGE',\n",
    "    preservation='STORAGE',\n",
    "    filters={'TREATMENT': 'No Additive'},\n",
    "    )"
   ]
  },
  {
   "cell_type": "markdown",
   "metadata": {},
   "source": [
    "## American Gut\n",
    "\n",
    "The [American Gut Project](<http://www.americangut.org>) is a cross sectional study. Samples were shipped through local post without perservatives. We will use only human fecal samples with at least 1000 sequences per sample."
   ]
  },
  {
   "cell_type": "code",
   "execution_count": 6,
   "metadata": {
    "collapsed": false,
    "scrolled": true
   },
   "outputs": [],
   "source": [
    "agp_meta, agp_sotu = load_studies(biom_fp='../data/ag.qiita-10317.biom',\n",
    "                                  meta_fp='../data/ag.qiita-10317.txt',\n",
    "                                  name='AGP',\n",
    "                                  preservation='NONE',\n",
    "                                  keep_columns=['BODY_HABITAT', '#SampleID', 'HOST_COMMON_NAME'],\n",
    "                                  filters={'BODY_HABITAT': 'UBERON:feces', \n",
    "                                           'HOST_COMMON_NAME':'human'}\n",
    "                                  )"
   ]
  },
  {
   "cell_type": "markdown",
   "metadata": {},
   "source": [
    "## UK twins study\n",
    "\n",
    "We'll use data from Goodrich et al [[3](#3)], a fresh frozen study comparing the heritability of the microbiome in monozygotic and dizygotic twins."
   ]
  },
  {
   "cell_type": "code",
   "execution_count": 7,
   "metadata": {
    "collapsed": false,
    "scrolled": true
   },
   "outputs": [],
   "source": [
    "twin_meta, twin_sotu = load_studies(biom_fp='../data/twins.qiita-2014.biom',\n",
    "                                meta_fp='../data/twins.qiita-2014.txt',\n",
    "                                name='UK_TWINS',\n",
    "                                preservation='FRESH_FROZEN',\n",
    "                                keep_columns=['env_matter', '#SampleID'],\n",
    "                                filters={'env_matter': 'ENVO:feces'}\n",
    "                                )"
   ]
  },
  {
   "cell_type": "markdown",
   "metadata": {},
   "source": [
    "## PGP\n",
    "\n",
    "(unpublished), Qiita study ID [1189](<https://qiita.ucsd.edu/study/description/1189>)\n",
    "\n",
    "Samples were collected from participants in the Personal Genome Project and fresh frozen. The study has not yet been published, but data is avaliable in [Qiita study 1189](<https://qiita.ucsd.edu/study/description/1189>). The study contains fecal, oral and skin samples. We'll use only the fecal samples.\n"
   ]
  },
  {
   "cell_type": "code",
   "execution_count": 8,
   "metadata": {
    "collapsed": false,
    "scrolled": true
   },
   "outputs": [],
   "source": [
    "pgp_meta, pgp_sotu = load_studies(biom_fp='../data/pgp.qiita-1189.biom',\n",
    "                                  meta_fp='../data/pgp.qiita-1189.txt',\n",
    "                                  name='PGP',\n",
    "                                  preservation='FRESH_FROZEN',\n",
    "                                  keep_columns=['#SampleID', 'body_product'],\n",
    "                                  filters={'body_product': 'UBERON:feces'}\n",
    "                                  )"
   ]
  },
  {
   "cell_type": "markdown",
   "metadata": {},
   "source": [
    "## Ercolini whole grain feces\n",
    "\n",
    "This study [[4](#4)] contains fecal samples from 80 healthy overweight/obese subjects, part of which undergoing whole grain wheat dietery intervention."
   ]
  },
  {
   "cell_type": "code",
   "execution_count": 9,
   "metadata": {
    "collapsed": false,
    "scrolled": true
   },
   "outputs": [],
   "source": [
    "erc_meta, erc_sotu = load_studies(biom_fp='../data/erc.qiita-1481.biom',\n",
    "                                  meta_fp='../data/erc.qiita-1481.txt',\n",
    "                                  name='ERC',\n",
    "                                  preservation='FRESH_FROZEN',\n",
    "                                  keep_columns=['env_matter', '#SampleID'],\n",
    "                                  filters={'env_matter': 'ENVO:feces'}\n",
    "                                  )"
   ]
  },
  {
   "cell_type": "markdown",
   "metadata": {},
   "source": [
    "# Analysis"
   ]
  },
  {
   "cell_type": "markdown",
   "metadata": {},
   "source": [
    "## Calculate growth for bacteria in storage studies\n",
    "For each sOTU, calculate the mean fold change over all individuals, using a minimal read cutoff of 5 reads/sample to reduce effect of discretization and multinomial sampling of low frequency sOTUs.\n",
    "\n",
    "We'll start by defining the function we'll use to calculate these fold differences. We'll take a map and sOTU table for a storage study. We require that multiple samples at multiple time points exist per individual (designated by the `subject` column). We can compare the difference between timepoints (identied as the values of `time0` and `time1` and found in the `time_col`). Additional filters to select the sames, such as the perservative or storage temperature can be specified as well, using `filters`. The minimum sequencing depth for a sample to be considered is set as `seq_depth`, while the minimum number of counts for an OTU to be compared is `min_count`.\n",
    "\n",
    "The function will calculate the mean fold change in sOTUs of interest between the two time points for all OTUs which have at least hte minimum number of counts either before or after storage."
   ]
  },
  {
   "cell_type": "code",
   "execution_count": 10,
   "metadata": {
    "collapsed": true,
    "scrolled": true
   },
   "outputs": [],
   "source": [
    "def test_stability(map_, otu_, time_col='time_numeric', time0='1', time1='2', \n",
    "                   subject_col='subject', mincount=5, seq_depth=2500, filters=None):\n",
    "    \"\"\"Calculates the fold change in a sub OTU between timepoints\n",
    "    \n",
    "    Parameters\n",
    "    ----------\n",
    "    map_ : DataFrame\n",
    "        The mapping file for the study. Must contain the columns\n",
    "        specified by `time_col`, `subject_col`, and any columns\n",
    "        used in `filters`.\n",
    "    otu_ : biom table\n",
    "        The sub OTU table assoicated with the study\n",
    "    time_col : str\n",
    "        The time in `map_` specifying when the sample was collected.\n",
    "    time0, time1: str, int\n",
    "        The values for the baseline and time change in the `time_col`\n",
    "    subject_col : str\n",
    "        A column in `map_` describing the way individuals are grouped\n",
    "        so that we can compare samples from the same person\n",
    "    min_count : int, optional\n",
    "        A mininum number of counts for caculating the ratio\n",
    "    seq_depth : int, optional\n",
    "        The minimum sequence depth for a sample to be analyzed\n",
    "    filters : None, dict\n",
    "        Any additional filters which should be applied to the data.\n",
    "        This should be expressed as a dictionary of column: value.\n",
    "        \n",
    "    Returns\n",
    "    -------\n",
    "        Series object keying the observation name to the mean fold\n",
    "        change between the two timepoints\n",
    "\n",
    "    \"\"\"\n",
    "    # Filters out samples without at least the minimum number of sequences\n",
    "    otu_.filter(lambda val, id_, md: val.sum() > seq_depth, axis='sample')\n",
    "    map_ = map_.loc[otu_.ids('sample')]\n",
    "        \n",
    "    # Sets up a filter for the mapping file to get the appropriate data.\n",
    "    def time_filter(x):\n",
    "        return (x[time_col] in {time0, time1})\n",
    "    if filters is not None:\n",
    "        def contraint_filter(x):\n",
    "            return np.all([x[c] == v for c, v in filters.items()])\n",
    "    else:\n",
    "        def contraint_filter(x):\n",
    "            return True\n",
    "    \n",
    "    # Filters the mapping file and otu table\n",
    "    map_ = map_.loc[map_.apply(time_filter, axis=1)].copy()\n",
    "    map_ = map_.loc[map_.apply(contraint_filter, axis=1).copy()]\n",
    "    otu_ = otu_.filter(map_.index, inplace=False)\n",
    "    otu_ = otu_.filter(lambda val, id_, md: (val.sum() > 0), axis='observation')\n",
    "    \n",
    "    otu_ids = otu_.ids('observation')\n",
    "    ratios = []\n",
    "    subjects = []\n",
    "    \n",
    "    # Groups by subject and iterates through the comparison\n",
    "    for host_subject_id, sub_map in map_.groupby(subject_col):\n",
    "        # Gets the list of samples at each time point\n",
    "        id0 = set(sub_map.index[sub_map[time_col] == time0])\n",
    "        id1 = set(sub_map.index[sub_map[time_col] == time1])\n",
    "        \n",
    "        # If there aren't samples for each timepoint, continue\n",
    "        if ((len(id0) == 0) or (len(id1) == 0)):\n",
    "            continue\n",
    "        \n",
    "        # Gets the sOTU data\n",
    "        sotus0 = otu_.filter(id0, inplace=False).sum(axis='observation') / len(id0)\n",
    "        sotus1 = otu_.filter(id1, inplace=False).sum(axis='observation') / len(id1)\n",
    "\n",
    "        low = (sotus0 < mincount) & (sotus1 < mincount)\n",
    "\n",
    "        sotus0[sotus0 < mincount] = mincount\n",
    "        sotus1[sotus1 < mincount] = mincount\n",
    "\n",
    "        ratio = sotus1 / sotus0\n",
    "        ratio[low] = np.nan\n",
    "        ratios.append(ratio)\n",
    "        subjects.append(host_subject_id)\n",
    "    \n",
    "    # Gets the list of ratios exlcuding any sOTU which doesnt meet the filtering criteria\n",
    "    ratios = pd.DataFrame(np.vstack(ratios), index=subjects, columns=otu_ids)\n",
    "    ratios.dropna(1, inplace=True, how='all')\n",
    "\n",
    "    # Calculate the mean fold change and the log fold change\n",
    "    fc = pd.Series(np.nanmean(ratios, 0), index=ratios.columns)\n",
    "    \n",
    "    return fc"
   ]
  },
  {
   "cell_type": "markdown",
   "metadata": {},
   "source": [
    "We'll also generate a pretty histogram plot showing the comparison. This will take the fold change values and return a maplotlib axis with a plot. "
   ]
  },
  {
   "cell_type": "code",
   "execution_count": 11,
   "metadata": {
    "collapsed": true,
    "scrolled": true
   },
   "outputs": [],
   "source": [
    "def plot_logfoldchange_histogram(foldchange, fig=None, ax=None):\n",
    "    \"\"\"Makes a pretty histogram of the fold change\"\"\"\n",
    "    if fig is None:\n",
    "        fig = plt.figure()\n",
    "    if ax is None:\n",
    "        ax = plt.axes()\n",
    "        \n",
    "    # Constant limits and bins facilitate comparisons\n",
    "    sn.distplot(np.log2(foldchange.dropna()), ax=ax, bins=np.linspace(-12, 12, 120))\n",
    "    ax.set_xlim([-12, 12])\n",
    "    ax.set_ylim([0, 1])\n",
    "    \n",
    "    # Sets up axis labels\n",
    "    ax.set_ylabel('Number of OTUs', size=24)\n",
    "    ax.set_xlabel('log$_{2}$(fold change)', size=24)\n",
    "    ax.tick_params(axis='both', which='major', labelsize=24)\n",
    "    plt.tight_layout()\n",
    "    \n",
    "    return fig"
   ]
  },
  {
   "cell_type": "markdown",
   "metadata": {},
   "source": [
    "We'll look at the fold change in the mayo stability study. We'll compare the samples from day 0 to day 1 and day 4."
   ]
  },
  {
   "cell_type": "code",
   "execution_count": 12,
   "metadata": {
    "collapsed": false,
    "scrolled": true
   },
   "outputs": [],
   "source": [
    "mayo_fc  = pd.DataFrame(data=[test_stability(mayo_meta, mayo_sotu, \n",
    "                                             time_col='SAMPLE_VISIT', \n",
    "                                             subject_col='HOST_SUBJECT_ID',\n",
    "                                             time0='Day 0', \n",
    "                                             time1='Day 1'),\n",
    "                              test_stability(mayo_meta, mayo_sotu, \n",
    "                                             time_col='SAMPLE_VISIT', \n",
    "                                             subject_col='HOST_SUBJECT_ID',\n",
    "                                             time0='Day 0', \n",
    "                                             time1='Day 4')],\n",
    "                        index=['Day 1', 'Day 4']).T"
   ]
  },
  {
   "cell_type": "markdown",
   "metadata": {},
   "source": [
    "Let's also look at the change between day 0 and day 1 in the same study."
   ]
  },
  {
   "cell_type": "code",
   "execution_count": 13,
   "metadata": {
    "collapsed": false,
    "scrolled": true
   },
   "outputs": [],
   "source": [
    "# # mayo 1 days\n",
    "# mayo1_fig = plot_logfoldchange_histogram(mayo_fc['Day 1'])\n",
    "# mayo1_fig.savefig('../results/fig1-hist-mayo-1-0.pdf')\n",
    "\n",
    "# # Let's look at the difference between day 0 and day 4 in samples from the Mayo Stability study.\n",
    "\n",
    "# # mayo 4 days\n",
    "# mayo4_fig = plot_logfoldchange_histogram(mayo_fc['Day 4'])\n",
    "\n",
    "# mayo4_fig.savefig('../results/fig1-hist-mayo-4-0.pdf')"
   ]
  },
  {
   "cell_type": "markdown",
   "metadata": {},
   "source": [
    "We'll also look at the Song stability study, comparing fresh samples to those stored for one, two, and seven weeks."
   ]
  },
  {
   "cell_type": "code",
   "execution_count": 14,
   "metadata": {
    "collapsed": true,
    "scrolled": true
   },
   "outputs": [],
   "source": [
    "song_fc  = pd.DataFrame(data=[test_stability(song_meta, song_sotu, \n",
    "                                             time0='1', \n",
    "                                             time1='2'),\n",
    "                              test_stability(song_meta, song_sotu, \n",
    "                                             time0='1', \n",
    "                                             time1='3'),\n",
    "                              test_stability(song_meta, song_sotu, \n",
    "                                             time0='1', \n",
    "                                             time1='4')],\n",
    "                              \n",
    "                         \n",
    "                        index=['Week 1', 'Week 2', 'Week 7']).T"
   ]
  },
  {
   "cell_type": "code",
   "execution_count": 15,
   "metadata": {
    "collapsed": false,
    "scrolled": true
   },
   "outputs": [],
   "source": [
    "# sj7fc_fig = plot_logfoldchange_histogram(song_fc['Week 1'])\n",
    "# sj7fc_fig.savefig('../results/fig1-hist-sejin-7-0.pdf')\n",
    "\n",
    "# sj14fc_fig = plot_logfoldchange_histogram(song_fc['Week 2'])\n",
    "# sj14fc_fig.savefig('../results/fig1-hist-sejin-14-0.pdf')\n",
    "\n",
    "# # se jin 4 weeks\n",
    "# sj28fc_fig = plot_logfoldchange_histogram(song_fc['Week 7'])\n",
    "# sj28fc_fig.savefig('../results/fig1-hist-sejin-28-0.pdf')"
   ]
  },
  {
   "cell_type": "markdown",
   "metadata": {},
   "source": [
    "## Differential Expression\n",
    "We'll next look at how American Gut, the shipped study, looks in comparison to the fresh frozen studies.\n",
    "\n",
    "So, we'll join all the cross sectional studies together and find sOTUs which differ significantly.\n",
    "Join all studies together and find sOTUs sginificantly higher/lower in AG"
   ]
  },
  {
   "cell_type": "code",
   "execution_count": 16,
   "metadata": {
    "collapsed": true,
    "scrolled": true
   },
   "outputs": [],
   "source": [
    "# Combines the metadata\n",
    "fec_meta = pd.concat([pgp_meta[['STUDY', 'PRESERVATION']], \n",
    "                      twin_meta[['STUDY', 'PRESERVATION']], \n",
    "                      agp_meta[['STUDY', 'PRESERVATION']], \n",
    "                      erc_meta[['STUDY', 'PRESERVATION']]])"
   ]
  },
  {
   "cell_type": "code",
   "execution_count": 17,
   "metadata": {
    "collapsed": false,
    "scrolled": true
   },
   "outputs": [],
   "source": [
    "# Combines the sOTU tables\n",
    "fec_sotu_b = pgp_sotu.merge(erc_sotu).merge(twin_sotu).merge(agp_sotu)"
   ]
  },
  {
   "cell_type": "markdown",
   "metadata": {},
   "source": [
    "Once we combine the studies, we'll filter out any OTU present in less than 50 samples."
   ]
  },
  {
   "cell_type": "code",
   "execution_count": 18,
   "metadata": {
    "collapsed": false,
    "scrolled": false
   },
   "outputs": [],
   "source": [
    "#fec_sotu_b.filter(lambda val, id_, md: val.sum() > 50, axis='observation')"
   ]
  },
  {
   "cell_type": "markdown",
   "metadata": {},
   "source": [
    "We'll use ANCOM [[5](#5)] to analyze the differential abundance between the fresh frozen and unpreserved studies, and then use this to calculate a fold change. We'll start by casting our sOTU tables to a dataframe, which will give us some more flexibility for the operations we need to do."
   ]
  },
  {
   "cell_type": "code",
   "execution_count": 19,
   "metadata": {
    "collapsed": false,
    "scrolled": true
   },
   "outputs": [],
   "source": [
    "fec_otu = exploding_panda(fec_sotu_b).to_dense()"
   ]
  },
  {
   "cell_type": "markdown",
   "metadata": {},
   "source": [
    "We'll scale the compositional data by 10,000 and then apply a threshhold so that anything with less than 2 reads is scaled at 2 reads."
   ]
  },
  {
   "cell_type": "markdown",
   "metadata": {},
   "source": [
    "To make handling the data easier, we'll build an MD5 look up for the sequences, and then adjust the index to account for this."
   ]
  },
  {
   "cell_type": "code",
   "execution_count": 20,
   "metadata": {
    "collapsed": true,
    "scrolled": true
   },
   "outputs": [],
   "source": [
    "def hash_sequence_ids(sequences):\n",
    "    \"\"\"Converts the sequence to a md5 hash\"\"\"\n",
    "    sequences['md5'] = sequences['sequence'].apply(\n",
    "        lambda x: hashlib.md5(x.encode('utf-8')).hexdigest()\n",
    "    )\n",
    "    return sequences"
   ]
  },
  {
   "cell_type": "code",
   "execution_count": 21,
   "metadata": {
    "collapsed": true,
    "scrolled": true
   },
   "outputs": [],
   "source": [
    "def map_frozen_taxonomy(sequence):\n",
    "    tax = fec_sotu_b.metadata(sequence, axis='observation')['taxonomy']\n",
    "    return ';'.join(tax)"
   ]
  },
  {
   "cell_type": "code",
   "execution_count": 22,
   "metadata": {
    "collapsed": false,
    "scrolled": true
   },
   "outputs": [],
   "source": [
    "fec_otu.reset_index(inplace=True) \n",
    "sequences = fec_otu[['index']].copy()\n",
    "sequences.rename(columns={'index': 'sequence'}, inplace=True)\n",
    "freeze_thaw = hash_sequence_ids(sequences)\n",
    "freeze_thaw['taxonomy'] = freeze_thaw['sequence'].apply(map_frozen_taxonomy)"
   ]
  },
  {
   "cell_type": "markdown",
   "metadata": {},
   "source": [
    "Finally, we'll replace the keyname."
   ]
  },
  {
   "cell_type": "code",
   "execution_count": 23,
   "metadata": {
    "collapsed": false,
    "scrolled": true
   },
   "outputs": [],
   "source": [
    "md_key = freeze_thaw.set_index('sequence').to_dict()"
   ]
  },
  {
   "cell_type": "code",
   "execution_count": 24,
   "metadata": {
    "collapsed": false,
    "scrolled": true
   },
   "outputs": [],
   "source": [
    "fec_otu['index'] = fec_otu['index'].apply(lambda x: md_key['md5'][x])\n",
    "fec_otu.set_index('index', inplace=True)\n",
    "freeze_thaw.set_index('md5', inplace=True)"
   ]
  },
  {
   "cell_type": "markdown",
   "metadata": {},
   "source": [
    "Now, we'll perform log normalization percentile normalized data."
   ]
  },
  {
   "cell_type": "code",
   "execution_count": 25,
   "metadata": {
    "collapsed": false
   },
   "outputs": [],
   "source": [
    "fec_sotu = fec_otu.apply(lambda x: 10000 * (x / x.sum()), axis=0)\n",
    "log_fec_sotu = fec_sotu.copy()\n",
    "log_fec_sotu[log_fec_sotu < 2] = 2\n",
    "log_fec_sotu = log_fec_sotu.loc[fec_sotu.sum(axis=1) > 0, :]\n",
    "log_fec_sotu = np.log2(log_fec_sotu)\n",
    "log_fec_sotu = log_fec_sotu.T"
   ]
  },
  {
   "cell_type": "markdown",
   "metadata": {},
   "source": [
    "We'll add variable to the mapping file which easily sorts our samples between shipped (`AG` = `True`) and fresh frozen (`AG = False`)."
   ]
  },
  {
   "cell_type": "code",
   "execution_count": 26,
   "metadata": {
    "collapsed": false
   },
   "outputs": [],
   "source": [
    "fec_meta['AG'] = (fec_meta['STUDY'] == 'AGP')"
   ]
  },
  {
   "cell_type": "code",
   "execution_count": 27,
   "metadata": {
    "collapsed": false
   },
   "outputs": [],
   "source": [
    "#fec_meta = fec_meta.sort_values('STUDY')\n",
    "#log_fec_sotu = log_fec_sotu.reindex(index=fec_meta.index)"
   ]
  },
  {
   "cell_type": "markdown",
   "metadata": {},
   "source": [
    "We apply a log transform to the data, and we'll calculate an effect size as the difference between the means of the logs."
   ]
  },
  {
   "cell_type": "code",
   "execution_count": 28,
   "metadata": {
    "collapsed": false
   },
   "outputs": [],
   "source": [
    "res = permutation_mean(log_fec_sotu, fec_meta['PRESERVATION'], permutations=999)"
   ]
  },
  {
   "cell_type": "code",
   "execution_count": 29,
   "metadata": {
    "collapsed": false
   },
   "outputs": [],
   "source": [
    "res['mean'] = log_fec_sotu.mean(axis=0)\n",
    "res['effect_size'] = res.m / res['mean']"
   ]
  },
  {
   "cell_type": "code",
   "execution_count": 30,
   "metadata": {
    "collapsed": false
   },
   "outputs": [],
   "source": [
    "res['corrected pvalue'] = multipletests(res.pvalue, method='fdr_bh')[1]"
   ]
  },
  {
   "cell_type": "code",
   "execution_count": 31,
   "metadata": {
    "collapsed": false
   },
   "outputs": [],
   "source": [
    "res['reject'] = np.logical_and(res['pvalue'] <= 0.001,  res['effect_size'] > 0.1)"
   ]
  },
  {
   "cell_type": "code",
   "execution_count": 32,
   "metadata": {
    "collapsed": false
   },
   "outputs": [
    {
     "data": {
      "text/plain": [
       "370"
      ]
     },
     "execution_count": 32,
     "metadata": {},
     "output_type": "execute_result"
    }
   ],
   "source": [
    "res.reject.sum()"
   ]
  },
  {
   "cell_type": "markdown",
   "metadata": {},
   "source": [
    "## Calculate the fold change of american gut compared to all other experiments\n",
    "For each sOTU, comapre the mean in all AG samples to the mean of all samples in a fresh-frozen experiment. The samples are unpaired, so we can't just compare the means. We'll perform this calculation seperately between each pair of studies.\n",
    "\n",
    "We'll start by getting the pandas dataframes for each study to make the comparisons."
   ]
  },
  {
   "cell_type": "code",
   "execution_count": 33,
   "metadata": {
    "collapsed": false
   },
   "outputs": [],
   "source": [
    "fec_sotu = fec_sotu.T"
   ]
  },
  {
   "cell_type": "code",
   "execution_count": 34,
   "metadata": {
    "collapsed": false,
    "scrolled": true
   },
   "outputs": [],
   "source": [
    "pgp_meta_f = fec_meta.loc[fec_meta['STUDY'] == 'PGP']\n",
    "pgp_sotu_f = fec_sotu.loc[pgp_meta_f.index]\n",
    "pgp_sotu_f = pgp_sotu_f.reindex(index=pgp_meta_f.index)"
   ]
  },
  {
   "cell_type": "code",
   "execution_count": 35,
   "metadata": {
    "collapsed": false,
    "scrolled": true
   },
   "outputs": [],
   "source": [
    "agp_meta_f = fec_meta.loc[fec_meta['STUDY'] == 'AGP']\n",
    "agp_sotu_f = fec_sotu.loc[agp_meta_f.index]\n",
    "agp_sotu_f = agp_sotu_f.reindex(index=agp_meta_f.index)"
   ]
  },
  {
   "cell_type": "code",
   "execution_count": 36,
   "metadata": {
    "collapsed": false,
    "scrolled": true
   },
   "outputs": [],
   "source": [
    "twin_meta_f = fec_meta.loc[fec_meta['STUDY'] == 'UK_TWINS']\n",
    "twin_sotu_f = fec_sotu.loc[twin_meta_f.index]\n",
    "twin_sotu_f = twin_sotu_f.reindex(index=twin_meta_f.index)"
   ]
  },
  {
   "cell_type": "code",
   "execution_count": 37,
   "metadata": {
    "collapsed": true,
    "scrolled": true
   },
   "outputs": [],
   "source": [
    "erc_meta_f = fec_meta.loc[fec_meta['STUDY'] == 'ERC']\n",
    "erc_sotu_f = fec_sotu.loc[erc_meta_f.index]\n",
    "erc_sotu_f = erc_sotu_f.reindex(index=erc_meta_f.index)"
   ]
  },
  {
   "cell_type": "markdown",
   "metadata": {},
   "source": [
    "Next, let's write a function to calculate the fold change between studies.\n",
    "\n",
    "**Check the mask**"
   ]
  },
  {
   "cell_type": "code",
   "execution_count": 38,
   "metadata": {
    "collapsed": false,
    "scrolled": true
   },
   "outputs": [],
   "source": [
    "def calculate_fold_change(sotu1, sotu2, minreads=1):\n",
    "    \"\"\"Calculates the fold change between two datasets\n",
    "    \n",
    "    Parameters\n",
    "    ----------\n",
    "    sotu1 : pd.DataFrame\n",
    "        A DataFrame representation of an sOTU table\n",
    "    sotu1 : pd.DataFrame\n",
    "        A DataFrame representation of an sOTU table\n",
    "    minreads : int\n",
    "        The minimum number of reads required in the sample \n",
    "        to calculate hte fold change\n",
    "    \"\"\"\n",
    "    \n",
    "    # Replaces values below the threshhold\n",
    "    sotu1[sotu1 < minreads] = minreads\n",
    "    sotu2[sotu2 < minreads] = minreads\n",
    "    \n",
    "    # Calculates the mean ratio\n",
    "    ratio = sotu1.mean(0) / sotu2.mean(0)\n",
    "    return ratio"
   ]
  },
  {
   "cell_type": "markdown",
   "metadata": {},
   "source": [
    "And, let's calculate the fold change ratio for all combinations."
   ]
  },
  {
   "cell_type": "code",
   "execution_count": 39,
   "metadata": {
    "collapsed": false,
    "scrolled": true
   },
   "outputs": [],
   "source": [
    "fold_change = pd.DataFrame([calculate_fold_change(agp_sotu_f, pgp_sotu_f),\n",
    "                            calculate_fold_change(agp_sotu_f, erc_sotu_f),\n",
    "                            calculate_fold_change(agp_sotu_f, twin_sotu_f)],\n",
    "                           index=['agp_pgp', 'agp_erc', 'agp_twins']).T"
   ]
  },
  {
   "cell_type": "code",
   "execution_count": 40,
   "metadata": {
    "collapsed": false
   },
   "outputs": [
    {
     "data": {
      "text/plain": [
       "agp_pgp      157.214497\n",
       "agp_erc      183.136239\n",
       "agp_twins     56.414074\n",
       "dtype: float64"
      ]
     },
     "execution_count": 40,
     "metadata": {},
     "output_type": "execute_result"
    }
   ],
   "source": [
    "fold_change.max(axis=0)"
   ]
  },
  {
   "cell_type": "code",
   "execution_count": 41,
   "metadata": {
    "collapsed": false,
    "scrolled": true
   },
   "outputs": [],
   "source": [
    "min_ag_fc = fold_change.min(axis=1)"
   ]
  },
  {
   "cell_type": "markdown",
   "metadata": {},
   "source": [
    "# identify candidate blooming bacteria list\n",
    "Iterate over all sOTUs which are significantly different between AG and all fresh-frozen samples. For each such sOTU, we calculate two values:\n",
    "\n",
    "1. The maximal growth potential (maximum over all storage studies and days)\n",
    "2. The minimal ratio between AG to each fresh-frozen sample. The minimum is taken in order to reduce the effect of study-study differences (since a blooming bacteria is expected to be higher in AG compared to all fresh-frozen studies)\n",
    "\n",
    "Candidate blooming bacteria are defined as sOTUs that satisfy either of the following criteria::\n",
    "\n",
    "* At least two fold difference in both steps (1) and (2)\n",
    "* At least two fold difference in step (2) and were not observed in step (1). \n",
    "* At least 50 fold change in step (1).\n",
    "\n",
    "The second criteria is present as the storage studies have a small set of individuals, and there may be blooming bacteria that by chance were not present in the storage study samples. The third criteria is so that we know they can grow drastically in room temp."
   ]
  },
  {
   "cell_type": "markdown",
   "metadata": {},
   "source": [
    "## Combining the stability studies\n",
    "\n",
    "We're going to find the maximum fold difference for all comparisons based on storage studies.\n",
    "\n",
    "Unfortunately, the Song et al study reads are 125 nucleotides long instead of the 150 nucelotides found in the other studies. However, these samples can still be used conservatively by comparing the first 125 nucleotides of each of the sequences in the Mayo fecal stability study to the sequence in the Song study and keep the full length read if observed as a bloom.\n",
    "\n",
    "We'll then build a hash based on the full 150 nucleotides, which will be the id we combine with the other study."
   ]
  },
  {
   "cell_type": "code",
   "execution_count": 42,
   "metadata": {
    "collapsed": false,
    "scrolled": true
   },
   "outputs": [],
   "source": [
    "song_fc.reset_index(inplace=True)\n",
    "song_fc.rename(columns={'index': 'sequence'}, inplace=True)\n",
    "\n",
    "song_fc['sequence125'] = song_fc['sequence'].copy()\n",
    "song_fc.set_index('sequence125', inplace=True)\n",
    "song_fc.rename(columns={'sequence': 'song_sequence'}, inplace=True)"
   ]
  },
  {
   "cell_type": "markdown",
   "metadata": {},
   "source": [
    "Let's also adapt the Mayo study."
   ]
  },
  {
   "cell_type": "code",
   "execution_count": 43,
   "metadata": {
    "collapsed": false,
    "scrolled": true
   },
   "outputs": [],
   "source": [
    "mayo_fc.reset_index(inplace=True)\n",
    "mayo_fc.rename(columns={'index': 'sequence'}, inplace=True)\n",
    "\n",
    "mayo_fc['sequence125'] = mayo_fc['sequence'].apply(lambda x: x[:124])\n",
    "mayo_fc.set_index('sequence125', inplace=True)\n",
    "mayo_fc.rename(columns={'sequence': 'mayo_sequence'}, inplace=True)"
   ]
  },
  {
   "cell_type": "markdown",
   "metadata": {},
   "source": [
    "Now, we can combine the studies, and then combine the sequences. We'll use the Mayo sequences over the storage sequences, since these are longer and therfore easier to specify."
   ]
  },
  {
   "cell_type": "code",
   "execution_count": 44,
   "metadata": {
    "collapsed": false,
    "scrolled": true
   },
   "outputs": [],
   "source": [
    "storage_fc = song_fc.join(mayo_fc)"
   ]
  },
  {
   "cell_type": "code",
   "execution_count": 45,
   "metadata": {
    "collapsed": false,
    "scrolled": true
   },
   "outputs": [],
   "source": [
    "def prioritize_sequences(x):\n",
    "    if pd.isnull(x['mayo_sequence']):\n",
    "        return x['song_sequence']\n",
    "    else:\n",
    "        return x['mayo_sequence']"
   ]
  },
  {
   "cell_type": "code",
   "execution_count": 46,
   "metadata": {
    "collapsed": true,
    "scrolled": true
   },
   "outputs": [],
   "source": [
    "lookup_map = storage_fc[['song_sequence', 'mayo_sequence']].copy()"
   ]
  },
  {
   "cell_type": "code",
   "execution_count": 47,
   "metadata": {
    "collapsed": false,
    "scrolled": true
   },
   "outputs": [],
   "source": [
    "lookup_map['sequence'] = lookup_map.apply(prioritize_sequences, axis=1)"
   ]
  },
  {
   "cell_type": "code",
   "execution_count": 48,
   "metadata": {
    "collapsed": false,
    "scrolled": true
   },
   "outputs": [],
   "source": [
    "storage_lookup = hash_sequence_ids(lookup_map)\n",
    "storage_fc['md5'] = storage_lookup['md5']\n",
    "storage_fc.set_index('md5', inplace=True)\n",
    "storage_lookup.set_index('md5', inplace=True)"
   ]
  },
  {
   "cell_type": "markdown",
   "metadata": {},
   "source": [
    "Now, we can calculate the fold change between the sequences."
   ]
  },
  {
   "cell_type": "code",
   "execution_count": 49,
   "metadata": {
    "collapsed": false,
    "scrolled": true
   },
   "outputs": [],
   "source": [
    "storage_max = storage_fc[['Week 1', 'Week 2', 'Week 7', 'Day 1', 'Day 4']].mean(axis=1)"
   ]
  },
  {
   "cell_type": "code",
   "execution_count": 50,
   "metadata": {
    "collapsed": false,
    "scrolled": true
   },
   "outputs": [],
   "source": [
    "extremes = pd.DataFrame([storage_max, min_ag_fc], \n",
    "                        index=['storage', 'freeze_thaw']).T\n",
    "extremes = extremes.loc[res.index[res['reject']]]"
   ]
  },
  {
   "cell_type": "code",
   "execution_count": 51,
   "metadata": {
    "collapsed": false,
    "scrolled": true
   },
   "outputs": [],
   "source": [
    "def identify_blooms(x):\n",
    "    return (((x['storage'] > 2) & (x['freeze_thaw'] > 2)) | \n",
    "            (x['storage'] > 50) |\n",
    "            ((x['freeze_thaw'] > 2) & (np.isnan(x['storage'])))\n",
    "            )"
   ]
  },
  {
   "cell_type": "code",
   "execution_count": 52,
   "metadata": {
    "collapsed": false,
    "scrolled": true
   },
   "outputs": [],
   "source": [
    "blooms = extremes.index[extremes.apply(identify_blooms, axis=1)]"
   ]
  },
  {
   "cell_type": "markdown",
   "metadata": {},
   "source": [
    "# Plot the fold change scatter plot KDE with highlighting the candidate blooming sOTUs\n",
    "since we have a lot of sOTUs, each with max(storage fc) and min(ag-fresh fc), we plot the average densities of all sOTUs.\n",
    "\n",
    "Red circles denote the sOTUs (15) passing the criteria for candidate blooming bacteria. Note that an additional set of 6 candidate blooming bacteria are not shown as they do not appear in the storage studies, and therefore do not have an x coordinate on the plot."
   ]
  },
  {
   "cell_type": "code",
   "execution_count": 53,
   "metadata": {
    "collapsed": false,
    "scrolled": true
   },
   "outputs": [],
   "source": [
    "clean_extremes = np.log2(extremes).dropna()\n",
    "clean_extremes = pd.merge(clean_extremes, res, \n",
    "                          left_index=True, right_index=True)"
   ]
  },
  {
   "cell_type": "code",
   "execution_count": 65,
   "metadata": {
    "collapsed": false,
    "scrolled": false
   },
   "outputs": [
    {
     "data": {
      "application/javascript": [
       "/* Put everything inside the global mpl namespace */\n",
       "window.mpl = {};\n",
       "\n",
       "mpl.get_websocket_type = function() {\n",
       "    if (typeof(WebSocket) !== 'undefined') {\n",
       "        return WebSocket;\n",
       "    } else if (typeof(MozWebSocket) !== 'undefined') {\n",
       "        return MozWebSocket;\n",
       "    } else {\n",
       "        alert('Your browser does not have WebSocket support.' +\n",
       "              'Please try Chrome, Safari or Firefox ≥ 6. ' +\n",
       "              'Firefox 4 and 5 are also supported but you ' +\n",
       "              'have to enable WebSockets in about:config.');\n",
       "    };\n",
       "}\n",
       "\n",
       "mpl.figure = function(figure_id, websocket, ondownload, parent_element) {\n",
       "    this.id = figure_id;\n",
       "\n",
       "    this.ws = websocket;\n",
       "\n",
       "    this.supports_binary = (this.ws.binaryType != undefined);\n",
       "\n",
       "    if (!this.supports_binary) {\n",
       "        var warnings = document.getElementById(\"mpl-warnings\");\n",
       "        if (warnings) {\n",
       "            warnings.style.display = 'block';\n",
       "            warnings.textContent = (\n",
       "                \"This browser does not support binary websocket messages. \" +\n",
       "                    \"Performance may be slow.\");\n",
       "        }\n",
       "    }\n",
       "\n",
       "    this.imageObj = new Image();\n",
       "\n",
       "    this.context = undefined;\n",
       "    this.message = undefined;\n",
       "    this.canvas = undefined;\n",
       "    this.rubberband_canvas = undefined;\n",
       "    this.rubberband_context = undefined;\n",
       "    this.format_dropdown = undefined;\n",
       "\n",
       "    this.image_mode = 'full';\n",
       "\n",
       "    this.root = $('<div/>');\n",
       "    this._root_extra_style(this.root)\n",
       "    this.root.attr('style', 'display: inline-block');\n",
       "\n",
       "    $(parent_element).append(this.root);\n",
       "\n",
       "    this._init_header(this);\n",
       "    this._init_canvas(this);\n",
       "    this._init_toolbar(this);\n",
       "\n",
       "    var fig = this;\n",
       "\n",
       "    this.waiting = false;\n",
       "\n",
       "    this.ws.onopen =  function () {\n",
       "            fig.send_message(\"supports_binary\", {value: fig.supports_binary});\n",
       "            fig.send_message(\"send_image_mode\", {});\n",
       "            fig.send_message(\"refresh\", {});\n",
       "        }\n",
       "\n",
       "    this.imageObj.onload = function() {\n",
       "            if (fig.image_mode == 'full') {\n",
       "                // Full images could contain transparency (where diff images\n",
       "                // almost always do), so we need to clear the canvas so that\n",
       "                // there is no ghosting.\n",
       "                fig.context.clearRect(0, 0, fig.canvas.width, fig.canvas.height);\n",
       "            }\n",
       "            fig.context.drawImage(fig.imageObj, 0, 0);\n",
       "        };\n",
       "\n",
       "    this.imageObj.onunload = function() {\n",
       "        this.ws.close();\n",
       "    }\n",
       "\n",
       "    this.ws.onmessage = this._make_on_message_function(this);\n",
       "\n",
       "    this.ondownload = ondownload;\n",
       "}\n",
       "\n",
       "mpl.figure.prototype._init_header = function() {\n",
       "    var titlebar = $(\n",
       "        '<div class=\"ui-dialog-titlebar ui-widget-header ui-corner-all ' +\n",
       "        'ui-helper-clearfix\"/>');\n",
       "    var titletext = $(\n",
       "        '<div class=\"ui-dialog-title\" style=\"width: 100%; ' +\n",
       "        'text-align: center; padding: 3px;\"/>');\n",
       "    titlebar.append(titletext)\n",
       "    this.root.append(titlebar);\n",
       "    this.header = titletext[0];\n",
       "}\n",
       "\n",
       "\n",
       "\n",
       "mpl.figure.prototype._canvas_extra_style = function(canvas_div) {\n",
       "\n",
       "}\n",
       "\n",
       "\n",
       "mpl.figure.prototype._root_extra_style = function(canvas_div) {\n",
       "\n",
       "}\n",
       "\n",
       "mpl.figure.prototype._init_canvas = function() {\n",
       "    var fig = this;\n",
       "\n",
       "    var canvas_div = $('<div/>');\n",
       "\n",
       "    canvas_div.attr('style', 'position: relative; clear: both; outline: 0');\n",
       "\n",
       "    function canvas_keyboard_event(event) {\n",
       "        return fig.key_event(event, event['data']);\n",
       "    }\n",
       "\n",
       "    canvas_div.keydown('key_press', canvas_keyboard_event);\n",
       "    canvas_div.keyup('key_release', canvas_keyboard_event);\n",
       "    this.canvas_div = canvas_div\n",
       "    this._canvas_extra_style(canvas_div)\n",
       "    this.root.append(canvas_div);\n",
       "\n",
       "    var canvas = $('<canvas/>');\n",
       "    canvas.addClass('mpl-canvas');\n",
       "    canvas.attr('style', \"left: 0; top: 0; z-index: 0; outline: 0\")\n",
       "\n",
       "    this.canvas = canvas[0];\n",
       "    this.context = canvas[0].getContext(\"2d\");\n",
       "\n",
       "    var rubberband = $('<canvas/>');\n",
       "    rubberband.attr('style', \"position: absolute; left: 0; top: 0; z-index: 1;\")\n",
       "\n",
       "    var pass_mouse_events = true;\n",
       "\n",
       "    canvas_div.resizable({\n",
       "        start: function(event, ui) {\n",
       "            pass_mouse_events = false;\n",
       "        },\n",
       "        resize: function(event, ui) {\n",
       "            fig.request_resize(ui.size.width, ui.size.height);\n",
       "        },\n",
       "        stop: function(event, ui) {\n",
       "            pass_mouse_events = true;\n",
       "            fig.request_resize(ui.size.width, ui.size.height);\n",
       "        },\n",
       "    });\n",
       "\n",
       "    function mouse_event_fn(event) {\n",
       "        if (pass_mouse_events)\n",
       "            return fig.mouse_event(event, event['data']);\n",
       "    }\n",
       "\n",
       "    rubberband.mousedown('button_press', mouse_event_fn);\n",
       "    rubberband.mouseup('button_release', mouse_event_fn);\n",
       "    // Throttle sequential mouse events to 1 every 20ms.\n",
       "    rubberband.mousemove('motion_notify', mouse_event_fn);\n",
       "\n",
       "    rubberband.mouseenter('figure_enter', mouse_event_fn);\n",
       "    rubberband.mouseleave('figure_leave', mouse_event_fn);\n",
       "\n",
       "    canvas_div.on(\"wheel\", function (event) {\n",
       "        event = event.originalEvent;\n",
       "        event['data'] = 'scroll'\n",
       "        if (event.deltaY < 0) {\n",
       "            event.step = 1;\n",
       "        } else {\n",
       "            event.step = -1;\n",
       "        }\n",
       "        mouse_event_fn(event);\n",
       "    });\n",
       "\n",
       "    canvas_div.append(canvas);\n",
       "    canvas_div.append(rubberband);\n",
       "\n",
       "    this.rubberband = rubberband;\n",
       "    this.rubberband_canvas = rubberband[0];\n",
       "    this.rubberband_context = rubberband[0].getContext(\"2d\");\n",
       "    this.rubberband_context.strokeStyle = \"#000000\";\n",
       "\n",
       "    this._resize_canvas = function(width, height) {\n",
       "        // Keep the size of the canvas, canvas container, and rubber band\n",
       "        // canvas in synch.\n",
       "        canvas_div.css('width', width)\n",
       "        canvas_div.css('height', height)\n",
       "\n",
       "        canvas.attr('width', width);\n",
       "        canvas.attr('height', height);\n",
       "\n",
       "        rubberband.attr('width', width);\n",
       "        rubberband.attr('height', height);\n",
       "    }\n",
       "\n",
       "    // Set the figure to an initial 600x600px, this will subsequently be updated\n",
       "    // upon first draw.\n",
       "    this._resize_canvas(600, 600);\n",
       "\n",
       "    // Disable right mouse context menu.\n",
       "    $(this.rubberband_canvas).bind(\"contextmenu\",function(e){\n",
       "        return false;\n",
       "    });\n",
       "\n",
       "    function set_focus () {\n",
       "        canvas.focus();\n",
       "        canvas_div.focus();\n",
       "    }\n",
       "\n",
       "    window.setTimeout(set_focus, 100);\n",
       "}\n",
       "\n",
       "mpl.figure.prototype._init_toolbar = function() {\n",
       "    var fig = this;\n",
       "\n",
       "    var nav_element = $('<div/>')\n",
       "    nav_element.attr('style', 'width: 100%');\n",
       "    this.root.append(nav_element);\n",
       "\n",
       "    // Define a callback function for later on.\n",
       "    function toolbar_event(event) {\n",
       "        return fig.toolbar_button_onclick(event['data']);\n",
       "    }\n",
       "    function toolbar_mouse_event(event) {\n",
       "        return fig.toolbar_button_onmouseover(event['data']);\n",
       "    }\n",
       "\n",
       "    for(var toolbar_ind in mpl.toolbar_items) {\n",
       "        var name = mpl.toolbar_items[toolbar_ind][0];\n",
       "        var tooltip = mpl.toolbar_items[toolbar_ind][1];\n",
       "        var image = mpl.toolbar_items[toolbar_ind][2];\n",
       "        var method_name = mpl.toolbar_items[toolbar_ind][3];\n",
       "\n",
       "        if (!name) {\n",
       "            // put a spacer in here.\n",
       "            continue;\n",
       "        }\n",
       "        var button = $('<button/>');\n",
       "        button.addClass('ui-button ui-widget ui-state-default ui-corner-all ' +\n",
       "                        'ui-button-icon-only');\n",
       "        button.attr('role', 'button');\n",
       "        button.attr('aria-disabled', 'false');\n",
       "        button.click(method_name, toolbar_event);\n",
       "        button.mouseover(tooltip, toolbar_mouse_event);\n",
       "\n",
       "        var icon_img = $('<span/>');\n",
       "        icon_img.addClass('ui-button-icon-primary ui-icon');\n",
       "        icon_img.addClass(image);\n",
       "        icon_img.addClass('ui-corner-all');\n",
       "\n",
       "        var tooltip_span = $('<span/>');\n",
       "        tooltip_span.addClass('ui-button-text');\n",
       "        tooltip_span.html(tooltip);\n",
       "\n",
       "        button.append(icon_img);\n",
       "        button.append(tooltip_span);\n",
       "\n",
       "        nav_element.append(button);\n",
       "    }\n",
       "\n",
       "    var fmt_picker_span = $('<span/>');\n",
       "\n",
       "    var fmt_picker = $('<select/>');\n",
       "    fmt_picker.addClass('mpl-toolbar-option ui-widget ui-widget-content');\n",
       "    fmt_picker_span.append(fmt_picker);\n",
       "    nav_element.append(fmt_picker_span);\n",
       "    this.format_dropdown = fmt_picker[0];\n",
       "\n",
       "    for (var ind in mpl.extensions) {\n",
       "        var fmt = mpl.extensions[ind];\n",
       "        var option = $(\n",
       "            '<option/>', {selected: fmt === mpl.default_extension}).html(fmt);\n",
       "        fmt_picker.append(option)\n",
       "    }\n",
       "\n",
       "    // Add hover states to the ui-buttons\n",
       "    $( \".ui-button\" ).hover(\n",
       "        function() { $(this).addClass(\"ui-state-hover\");},\n",
       "        function() { $(this).removeClass(\"ui-state-hover\");}\n",
       "    );\n",
       "\n",
       "    var status_bar = $('<span class=\"mpl-message\"/>');\n",
       "    nav_element.append(status_bar);\n",
       "    this.message = status_bar[0];\n",
       "}\n",
       "\n",
       "mpl.figure.prototype.request_resize = function(x_pixels, y_pixels) {\n",
       "    // Request matplotlib to resize the figure. Matplotlib will then trigger a resize in the client,\n",
       "    // which will in turn request a refresh of the image.\n",
       "    this.send_message('resize', {'width': x_pixels, 'height': y_pixels});\n",
       "}\n",
       "\n",
       "mpl.figure.prototype.send_message = function(type, properties) {\n",
       "    properties['type'] = type;\n",
       "    properties['figure_id'] = this.id;\n",
       "    this.ws.send(JSON.stringify(properties));\n",
       "}\n",
       "\n",
       "mpl.figure.prototype.send_draw_message = function() {\n",
       "    if (!this.waiting) {\n",
       "        this.waiting = true;\n",
       "        this.ws.send(JSON.stringify({type: \"draw\", figure_id: this.id}));\n",
       "    }\n",
       "}\n",
       "\n",
       "\n",
       "mpl.figure.prototype.handle_save = function(fig, msg) {\n",
       "    var format_dropdown = fig.format_dropdown;\n",
       "    var format = format_dropdown.options[format_dropdown.selectedIndex].value;\n",
       "    fig.ondownload(fig, format);\n",
       "}\n",
       "\n",
       "\n",
       "mpl.figure.prototype.handle_resize = function(fig, msg) {\n",
       "    var size = msg['size'];\n",
       "    if (size[0] != fig.canvas.width || size[1] != fig.canvas.height) {\n",
       "        fig._resize_canvas(size[0], size[1]);\n",
       "        fig.send_message(\"refresh\", {});\n",
       "    };\n",
       "}\n",
       "\n",
       "mpl.figure.prototype.handle_rubberband = function(fig, msg) {\n",
       "    var x0 = msg['x0'];\n",
       "    var y0 = fig.canvas.height - msg['y0'];\n",
       "    var x1 = msg['x1'];\n",
       "    var y1 = fig.canvas.height - msg['y1'];\n",
       "    x0 = Math.floor(x0) + 0.5;\n",
       "    y0 = Math.floor(y0) + 0.5;\n",
       "    x1 = Math.floor(x1) + 0.5;\n",
       "    y1 = Math.floor(y1) + 0.5;\n",
       "    var min_x = Math.min(x0, x1);\n",
       "    var min_y = Math.min(y0, y1);\n",
       "    var width = Math.abs(x1 - x0);\n",
       "    var height = Math.abs(y1 - y0);\n",
       "\n",
       "    fig.rubberband_context.clearRect(\n",
       "        0, 0, fig.canvas.width, fig.canvas.height);\n",
       "\n",
       "    fig.rubberband_context.strokeRect(min_x, min_y, width, height);\n",
       "}\n",
       "\n",
       "mpl.figure.prototype.handle_figure_label = function(fig, msg) {\n",
       "    // Updates the figure title.\n",
       "    fig.header.textContent = msg['label'];\n",
       "}\n",
       "\n",
       "mpl.figure.prototype.handle_cursor = function(fig, msg) {\n",
       "    var cursor = msg['cursor'];\n",
       "    switch(cursor)\n",
       "    {\n",
       "    case 0:\n",
       "        cursor = 'pointer';\n",
       "        break;\n",
       "    case 1:\n",
       "        cursor = 'default';\n",
       "        break;\n",
       "    case 2:\n",
       "        cursor = 'crosshair';\n",
       "        break;\n",
       "    case 3:\n",
       "        cursor = 'move';\n",
       "        break;\n",
       "    }\n",
       "    fig.rubberband_canvas.style.cursor = cursor;\n",
       "}\n",
       "\n",
       "mpl.figure.prototype.handle_message = function(fig, msg) {\n",
       "    fig.message.textContent = msg['message'];\n",
       "}\n",
       "\n",
       "mpl.figure.prototype.handle_draw = function(fig, msg) {\n",
       "    // Request the server to send over a new figure.\n",
       "    fig.send_draw_message();\n",
       "}\n",
       "\n",
       "mpl.figure.prototype.handle_image_mode = function(fig, msg) {\n",
       "    fig.image_mode = msg['mode'];\n",
       "}\n",
       "\n",
       "mpl.figure.prototype.updated_canvas_event = function() {\n",
       "    // Called whenever the canvas gets updated.\n",
       "    this.send_message(\"ack\", {});\n",
       "}\n",
       "\n",
       "// A function to construct a web socket function for onmessage handling.\n",
       "// Called in the figure constructor.\n",
       "mpl.figure.prototype._make_on_message_function = function(fig) {\n",
       "    return function socket_on_message(evt) {\n",
       "        if (evt.data instanceof Blob) {\n",
       "            /* FIXME: We get \"Resource interpreted as Image but\n",
       "             * transferred with MIME type text/plain:\" errors on\n",
       "             * Chrome.  But how to set the MIME type?  It doesn't seem\n",
       "             * to be part of the websocket stream */\n",
       "            evt.data.type = \"image/png\";\n",
       "\n",
       "            /* Free the memory for the previous frames */\n",
       "            if (fig.imageObj.src) {\n",
       "                (window.URL || window.webkitURL).revokeObjectURL(\n",
       "                    fig.imageObj.src);\n",
       "            }\n",
       "\n",
       "            fig.imageObj.src = (window.URL || window.webkitURL).createObjectURL(\n",
       "                evt.data);\n",
       "            fig.updated_canvas_event();\n",
       "            fig.waiting = false;\n",
       "            return;\n",
       "        }\n",
       "        else if (typeof evt.data === 'string' && evt.data.slice(0, 21) == \"data:image/png;base64\") {\n",
       "            fig.imageObj.src = evt.data;\n",
       "            fig.updated_canvas_event();\n",
       "            fig.waiting = false;\n",
       "            return;\n",
       "        }\n",
       "\n",
       "        var msg = JSON.parse(evt.data);\n",
       "        var msg_type = msg['type'];\n",
       "\n",
       "        // Call the  \"handle_{type}\" callback, which takes\n",
       "        // the figure and JSON message as its only arguments.\n",
       "        try {\n",
       "            var callback = fig[\"handle_\" + msg_type];\n",
       "        } catch (e) {\n",
       "            console.log(\"No handler for the '\" + msg_type + \"' message type: \", msg);\n",
       "            return;\n",
       "        }\n",
       "\n",
       "        if (callback) {\n",
       "            try {\n",
       "                // console.log(\"Handling '\" + msg_type + \"' message: \", msg);\n",
       "                callback(fig, msg);\n",
       "            } catch (e) {\n",
       "                console.log(\"Exception inside the 'handler_\" + msg_type + \"' callback:\", e, e.stack, msg);\n",
       "            }\n",
       "        }\n",
       "    };\n",
       "}\n",
       "\n",
       "// from http://stackoverflow.com/questions/1114465/getting-mouse-location-in-canvas\n",
       "mpl.findpos = function(e) {\n",
       "    //this section is from http://www.quirksmode.org/js/events_properties.html\n",
       "    var targ;\n",
       "    if (!e)\n",
       "        e = window.event;\n",
       "    if (e.target)\n",
       "        targ = e.target;\n",
       "    else if (e.srcElement)\n",
       "        targ = e.srcElement;\n",
       "    if (targ.nodeType == 3) // defeat Safari bug\n",
       "        targ = targ.parentNode;\n",
       "\n",
       "    // jQuery normalizes the pageX and pageY\n",
       "    // pageX,Y are the mouse positions relative to the document\n",
       "    // offset() returns the position of the element relative to the document\n",
       "    var x = e.pageX - $(targ).offset().left;\n",
       "    var y = e.pageY - $(targ).offset().top;\n",
       "\n",
       "    return {\"x\": x, \"y\": y};\n",
       "};\n",
       "\n",
       "/*\n",
       " * return a copy of an object with only non-object keys\n",
       " * we need this to avoid circular references\n",
       " * http://stackoverflow.com/a/24161582/3208463\n",
       " */\n",
       "function simpleKeys (original) {\n",
       "  return Object.keys(original).reduce(function (obj, key) {\n",
       "    if (typeof original[key] !== 'object')\n",
       "        obj[key] = original[key]\n",
       "    return obj;\n",
       "  }, {});\n",
       "}\n",
       "\n",
       "mpl.figure.prototype.mouse_event = function(event, name) {\n",
       "    var canvas_pos = mpl.findpos(event)\n",
       "\n",
       "    if (name === 'button_press')\n",
       "    {\n",
       "        this.canvas.focus();\n",
       "        this.canvas_div.focus();\n",
       "    }\n",
       "\n",
       "    var x = canvas_pos.x;\n",
       "    var y = canvas_pos.y;\n",
       "\n",
       "    this.send_message(name, {x: x, y: y, button: event.button,\n",
       "                             step: event.step,\n",
       "                             guiEvent: simpleKeys(event)});\n",
       "\n",
       "    /* This prevents the web browser from automatically changing to\n",
       "     * the text insertion cursor when the button is pressed.  We want\n",
       "     * to control all of the cursor setting manually through the\n",
       "     * 'cursor' event from matplotlib */\n",
       "    event.preventDefault();\n",
       "    return false;\n",
       "}\n",
       "\n",
       "mpl.figure.prototype._key_event_extra = function(event, name) {\n",
       "    // Handle any extra behaviour associated with a key event\n",
       "}\n",
       "\n",
       "mpl.figure.prototype.key_event = function(event, name) {\n",
       "\n",
       "    // Prevent repeat events\n",
       "    if (name == 'key_press')\n",
       "    {\n",
       "        if (event.which === this._key)\n",
       "            return;\n",
       "        else\n",
       "            this._key = event.which;\n",
       "    }\n",
       "    if (name == 'key_release')\n",
       "        this._key = null;\n",
       "\n",
       "    var value = '';\n",
       "    if (event.ctrlKey && event.which != 17)\n",
       "        value += \"ctrl+\";\n",
       "    if (event.altKey && event.which != 18)\n",
       "        value += \"alt+\";\n",
       "    if (event.shiftKey && event.which != 16)\n",
       "        value += \"shift+\";\n",
       "\n",
       "    value += 'k';\n",
       "    value += event.which.toString();\n",
       "\n",
       "    this._key_event_extra(event, name);\n",
       "\n",
       "    this.send_message(name, {key: value,\n",
       "                             guiEvent: simpleKeys(event)});\n",
       "    return false;\n",
       "}\n",
       "\n",
       "mpl.figure.prototype.toolbar_button_onclick = function(name) {\n",
       "    if (name == 'download') {\n",
       "        this.handle_save(this, null);\n",
       "    } else {\n",
       "        this.send_message(\"toolbar_button\", {name: name});\n",
       "    }\n",
       "};\n",
       "\n",
       "mpl.figure.prototype.toolbar_button_onmouseover = function(tooltip) {\n",
       "    this.message.textContent = tooltip;\n",
       "};\n",
       "mpl.toolbar_items = [[\"Home\", \"Reset original view\", \"fa fa-home icon-home\", \"home\"], [\"Back\", \"Back to  previous view\", \"fa fa-arrow-left icon-arrow-left\", \"back\"], [\"Forward\", \"Forward to next view\", \"fa fa-arrow-right icon-arrow-right\", \"forward\"], [\"\", \"\", \"\", \"\"], [\"Pan\", \"Pan axes with left mouse, zoom with right\", \"fa fa-arrows icon-move\", \"pan\"], [\"Zoom\", \"Zoom to rectangle\", \"fa fa-square-o icon-check-empty\", \"zoom\"], [\"\", \"\", \"\", \"\"], [\"Download\", \"Download plot\", \"fa fa-floppy-o icon-save\", \"download\"]];\n",
       "\n",
       "mpl.extensions = [\"eps\", \"pdf\", \"png\", \"ps\", \"raw\", \"svg\"];\n",
       "\n",
       "mpl.default_extension = \"png\";var comm_websocket_adapter = function(comm) {\n",
       "    // Create a \"websocket\"-like object which calls the given IPython comm\n",
       "    // object with the appropriate methods. Currently this is a non binary\n",
       "    // socket, so there is still some room for performance tuning.\n",
       "    var ws = {};\n",
       "\n",
       "    ws.close = function() {\n",
       "        comm.close()\n",
       "    };\n",
       "    ws.send = function(m) {\n",
       "        //console.log('sending', m);\n",
       "        comm.send(m);\n",
       "    };\n",
       "    // Register the callback with on_msg.\n",
       "    comm.on_msg(function(msg) {\n",
       "        //console.log('receiving', msg['content']['data'], msg);\n",
       "        // Pass the mpl event to the overriden (by mpl) onmessage function.\n",
       "        ws.onmessage(msg['content']['data'])\n",
       "    });\n",
       "    return ws;\n",
       "}\n",
       "\n",
       "mpl.mpl_figure_comm = function(comm, msg) {\n",
       "    // This is the function which gets called when the mpl process\n",
       "    // starts-up an IPython Comm through the \"matplotlib\" channel.\n",
       "\n",
       "    var id = msg.content.data.id;\n",
       "    // Get hold of the div created by the display call when the Comm\n",
       "    // socket was opened in Python.\n",
       "    var element = $(\"#\" + id);\n",
       "    var ws_proxy = comm_websocket_adapter(comm)\n",
       "\n",
       "    function ondownload(figure, format) {\n",
       "        window.open(figure.imageObj.src);\n",
       "    }\n",
       "\n",
       "    var fig = new mpl.figure(id, ws_proxy,\n",
       "                           ondownload,\n",
       "                           element.get(0));\n",
       "\n",
       "    // Call onopen now - mpl needs it, as it is assuming we've passed it a real\n",
       "    // web socket which is closed, not our websocket->open comm proxy.\n",
       "    ws_proxy.onopen();\n",
       "\n",
       "    fig.parent_element = element.get(0);\n",
       "    fig.cell_info = mpl.find_output_cell(\"<div id='\" + id + \"'></div>\");\n",
       "    if (!fig.cell_info) {\n",
       "        console.error(\"Failed to find cell for figure\", id, fig);\n",
       "        return;\n",
       "    }\n",
       "\n",
       "    var output_index = fig.cell_info[2]\n",
       "    var cell = fig.cell_info[0];\n",
       "\n",
       "};\n",
       "\n",
       "mpl.figure.prototype.handle_close = function(fig, msg) {\n",
       "    fig.root.unbind('remove')\n",
       "\n",
       "    // Update the output cell to use the data from the current canvas.\n",
       "    fig.push_to_output();\n",
       "    var dataURL = fig.canvas.toDataURL();\n",
       "    // Re-enable the keyboard manager in IPython - without this line, in FF,\n",
       "    // the notebook keyboard shortcuts fail.\n",
       "    IPython.keyboard_manager.enable()\n",
       "    $(fig.parent_element).html('<img src=\"' + dataURL + '\">');\n",
       "    fig.close_ws(fig, msg);\n",
       "}\n",
       "\n",
       "mpl.figure.prototype.close_ws = function(fig, msg){\n",
       "    fig.send_message('closing', msg);\n",
       "    // fig.ws.close()\n",
       "}\n",
       "\n",
       "mpl.figure.prototype.push_to_output = function(remove_interactive) {\n",
       "    // Turn the data on the canvas into data in the output cell.\n",
       "    var dataURL = this.canvas.toDataURL();\n",
       "    this.cell_info[1]['text/html'] = '<img src=\"' + dataURL + '\">';\n",
       "}\n",
       "\n",
       "mpl.figure.prototype.updated_canvas_event = function() {\n",
       "    // Tell IPython that the notebook contents must change.\n",
       "    IPython.notebook.set_dirty(true);\n",
       "    this.send_message(\"ack\", {});\n",
       "    var fig = this;\n",
       "    // Wait a second, then push the new image to the DOM so\n",
       "    // that it is saved nicely (might be nice to debounce this).\n",
       "    setTimeout(function () { fig.push_to_output() }, 1000);\n",
       "}\n",
       "\n",
       "mpl.figure.prototype._init_toolbar = function() {\n",
       "    var fig = this;\n",
       "\n",
       "    var nav_element = $('<div/>')\n",
       "    nav_element.attr('style', 'width: 100%');\n",
       "    this.root.append(nav_element);\n",
       "\n",
       "    // Define a callback function for later on.\n",
       "    function toolbar_event(event) {\n",
       "        return fig.toolbar_button_onclick(event['data']);\n",
       "    }\n",
       "    function toolbar_mouse_event(event) {\n",
       "        return fig.toolbar_button_onmouseover(event['data']);\n",
       "    }\n",
       "\n",
       "    for(var toolbar_ind in mpl.toolbar_items){\n",
       "        var name = mpl.toolbar_items[toolbar_ind][0];\n",
       "        var tooltip = mpl.toolbar_items[toolbar_ind][1];\n",
       "        var image = mpl.toolbar_items[toolbar_ind][2];\n",
       "        var method_name = mpl.toolbar_items[toolbar_ind][3];\n",
       "\n",
       "        if (!name) { continue; };\n",
       "\n",
       "        var button = $('<button class=\"btn btn-default\" href=\"#\" title=\"' + name + '\"><i class=\"fa ' + image + ' fa-lg\"></i></button>');\n",
       "        button.click(method_name, toolbar_event);\n",
       "        button.mouseover(tooltip, toolbar_mouse_event);\n",
       "        nav_element.append(button);\n",
       "    }\n",
       "\n",
       "    // Add the status bar.\n",
       "    var status_bar = $('<span class=\"mpl-message\" style=\"text-align:right; float: right;\"/>');\n",
       "    nav_element.append(status_bar);\n",
       "    this.message = status_bar[0];\n",
       "\n",
       "    // Add the close button to the window.\n",
       "    var buttongrp = $('<div class=\"btn-group inline pull-right\"></div>');\n",
       "    var button = $('<button class=\"btn btn-mini btn-primary\" href=\"#\" title=\"Stop Interaction\"><i class=\"fa fa-power-off icon-remove icon-large\"></i></button>');\n",
       "    button.click(function (evt) { fig.handle_close(fig, {}); } );\n",
       "    button.mouseover('Stop Interaction', toolbar_mouse_event);\n",
       "    buttongrp.append(button);\n",
       "    var titlebar = this.root.find($('.ui-dialog-titlebar'));\n",
       "    titlebar.prepend(buttongrp);\n",
       "}\n",
       "\n",
       "mpl.figure.prototype._root_extra_style = function(el){\n",
       "    var fig = this\n",
       "    el.on(\"remove\", function(){\n",
       "\tfig.close_ws(fig, {});\n",
       "    });\n",
       "}\n",
       "\n",
       "mpl.figure.prototype._canvas_extra_style = function(el){\n",
       "    // this is important to make the div 'focusable\n",
       "    el.attr('tabindex', 0)\n",
       "    // reach out to IPython and tell the keyboard manager to turn it's self\n",
       "    // off when our div gets focus\n",
       "\n",
       "    // location in version 3\n",
       "    if (IPython.notebook.keyboard_manager) {\n",
       "        IPython.notebook.keyboard_manager.register_events(el);\n",
       "    }\n",
       "    else {\n",
       "        // location in version 2\n",
       "        IPython.keyboard_manager.register_events(el);\n",
       "    }\n",
       "\n",
       "}\n",
       "\n",
       "mpl.figure.prototype._key_event_extra = function(event, name) {\n",
       "    var manager = IPython.notebook.keyboard_manager;\n",
       "    if (!manager)\n",
       "        manager = IPython.keyboard_manager;\n",
       "\n",
       "    // Check for shift+enter\n",
       "    if (event.shiftKey && event.which == 13) {\n",
       "        this.canvas_div.blur();\n",
       "        // select the cell after this one\n",
       "        var index = IPython.notebook.find_cell_index(this.cell_info[0]);\n",
       "        IPython.notebook.select(index + 1);\n",
       "    }\n",
       "}\n",
       "\n",
       "mpl.figure.prototype.handle_save = function(fig, msg) {\n",
       "    fig.ondownload(fig, null);\n",
       "}\n",
       "\n",
       "\n",
       "mpl.find_output_cell = function(html_output) {\n",
       "    // Return the cell and output element which can be found *uniquely* in the notebook.\n",
       "    // Note - this is a bit hacky, but it is done because the \"notebook_saving.Notebook\"\n",
       "    // IPython event is triggered only after the cells have been serialised, which for\n",
       "    // our purposes (turning an active figure into a static one), is too late.\n",
       "    var cells = IPython.notebook.get_cells();\n",
       "    var ncells = cells.length;\n",
       "    for (var i=0; i<ncells; i++) {\n",
       "        var cell = cells[i];\n",
       "        if (cell.cell_type === 'code'){\n",
       "            for (var j=0; j<cell.output_area.outputs.length; j++) {\n",
       "                var data = cell.output_area.outputs[j];\n",
       "                if (data.data) {\n",
       "                    // IPython >= 3 moved mimebundle to data attribute of output\n",
       "                    data = data.data;\n",
       "                }\n",
       "                if (data['text/html'] == html_output) {\n",
       "                    return [cell, data, j];\n",
       "                }\n",
       "            }\n",
       "        }\n",
       "    }\n",
       "}\n",
       "\n",
       "// Register the function which deals with the matplotlib target/channel.\n",
       "// The kernel may be null if the page has been refreshed.\n",
       "if (IPython.notebook.kernel != null) {\n",
       "    IPython.notebook.kernel.comm_manager.register_target('matplotlib', mpl.mpl_figure_comm);\n",
       "}\n"
      ],
      "text/plain": [
       "<IPython.core.display.Javascript object>"
      ]
     },
     "metadata": {},
     "output_type": "display_data"
    },
    {
     "data": {
      "text/html": [
       "<img src=\"data:image/png;base64,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\">"
      ],
      "text/plain": [
       "<IPython.core.display.HTML object>"
      ]
     },
     "metadata": {},
     "output_type": "display_data"
    }
   ],
   "source": [
    "ax = plt.axes()\n",
    "fig = ax.figure\n",
    "sn.kdeplot(clean_extremes['storage'],\n",
    "           clean_extremes['freeze_thaw'],\n",
    "           shade=True,\n",
    "           cmap='Greys',\n",
    "           ax=ax)\n",
    "ax.scatter(clean_extremes.loc[blooms, 'storage'],\n",
    "           clean_extremes.loc[blooms, 'freeze_thaw'],\n",
    "           s=80, color=sn.color_palette()[2])\n",
    "# ax.set_xlim([-2, 10])\n",
    "# ax.set_ylim([-5, 6])\n",
    "ax.set_xlabel('max. storage study foldchange (log2)',fontsize=16)\n",
    "ax.set_ylabel('min. AG foldchange (log2)',fontsize=16)\n",
    "ax.tick_params(axis='both', which='major', labelsize=14)\n",
    "plt.tight_layout()"
   ]
  },
  {
   "cell_type": "code",
   "execution_count": 55,
   "metadata": {
    "collapsed": true,
    "scrolled": true
   },
   "outputs": [],
   "source": [
    "plt.savefig('../results/fig1-blooming-identification-kde.pdf')"
   ]
  },
  {
   "cell_type": "markdown",
   "metadata": {},
   "source": [
    "## Sort the candidate blooming sOTUs by their storage study fold change\n",
    "We want to order the candidate blooming sOTUs so the more likely/larger effect size bloomers are first.\n",
    "\n",
    "We base the sort order on the storage study maximal fold change, as this approximates the potential for blooming, and the max over different storage times shows the growth in the more optimal conditions for each candidate bloomer (whereas the AG-fresh frozen fold change shows the mean blooming). This way, we give higher priority to sOTUs that can distort the most the frequencies (even if in a small number of samples)."
   ]
  },
  {
   "cell_type": "code",
   "execution_count": 56,
   "metadata": {
    "collapsed": false,
    "scrolled": true
   },
   "outputs": [],
   "source": [
    "extremes = pd.merge(extremes, res, \n",
    "                    left_index=True, right_index=True)\n",
    "order_list = extremes.sort_values('m', ascending=False)"
   ]
  },
  {
   "cell_type": "code",
   "execution_count": 57,
   "metadata": {
    "collapsed": false,
    "scrolled": true
   },
   "outputs": [
    {
     "name": "stdout",
     "output_type": "stream",
     "text": [
      "1 3 k__Bacteria;p__Proteobacteria;c__Gammaproteobacteria;o__Enterobacteriales;f__Enterobacteriaceae;g__Escherichia;s__coli\n",
      "2 1 k__Bacteria;p__Firmicutes;c__Clostridia;o__Clostridiales;f__Lachnospiraceae;g__[Ruminococcus];s__gnavus\n",
      "3 1 k__Bacteria;p__Firmicutes;c__Clostridia;o__Clostridiales;f__Lachnospiraceae;g__Coprococcus;s__\n",
      "4 1 k__Bacteria;p__Firmicutes;c__Clostridia;o__Clostridiales;f__Lachnospiraceae;g__Blautia;s__\n",
      "5 1 k__Bacteria;p__Firmicutes;c__Clostridia;o__Clostridiales;f__Clostridiaceae;g__SMB53;s__\n",
      "6 1 k__Bacteria;p__Firmicutes;c__Clostridia;o__Clostridiales;f__Ruminococcaceae;g__Faecalibacterium;s__prausnitzii\n",
      "7 1 k__Bacteria;p__Actinobacteria;c__Actinobacteria;o__Bifidobacteriales;f__Bifidobacteriaceae;g__Bifidobacterium;s__adolescentis\n",
      "8 1 k__Bacteria;p__Firmicutes;c__Clostridia;o__Clostridiales;f__Ruminococcaceae;g__Ruminococcus;s__bromii\n",
      "9 1 k__Bacteria;p__Firmicutes;c__Clostridia;o__Clostridiales;f__;g__;s__\n",
      "10 1 k__Bacteria;p__Firmicutes;c__Clostridia;o__Clostridiales;f__Lachnospiraceae;g__;s__\n",
      "11 1 k__Bacteria;p__Firmicutes;c__Clostridia;o__Clostridiales;f__Christensenellaceae;g__;s__\n",
      "12 1 k__Bacteria;p__Firmicutes;c__Clostridia;o__Clostridiales;f__Lachnospiraceae;g__Blautia;s__\n",
      "13 1 k__Bacteria;p__Proteobacteria;c__Gammaproteobacteria;o__Enterobacteriales;f__Enterobacteriaceae;g__Klebsiella;s__\n",
      "14 1 k__Bacteria;p__Firmicutes;c__Clostridia;o__Clostridiales;f__Ruminococcaceae;g__Oscillospira;s__\n",
      "15 1 k__Bacteria;p__Firmicutes;c__Erysipelotrichi;o__Erysipelotrichales;f__Erysipelotrichaceae;g__;s__\n",
      "16 1 k__Bacteria;p__Firmicutes;c__Clostridia;o__Clostridiales;f__Lachnospiraceae;g__Dorea;s__\n",
      "17 1 k__Bacteria;p__Firmicutes;c__Clostridia;o__Clostridiales;f__Lachnospiraceae;g__Coprococcus;s__\n",
      "18 1 k__Bacteria;p__Firmicutes;c__Clostridia;o__Clostridiales;f__Lachnospiraceae;g__Blautia;s__\n",
      "19 1 k__Bacteria;p__Proteobacteria;c__Gammaproteobacteria;o__Pseudomonadales;f__Pseudomonadaceae;g__Pseudomonas;s__fragi\n",
      "20 1 k__Bacteria;p__Firmicutes;c__Clostridia;o__Clostridiales;f__Lachnospiraceae;g__Coprococcus;s__catus\n",
      "21 1 k__Archaea;p__Euryarchaeota;c__Methanobacteria;o__Methanobacteriales;f__Methanobacteriaceae;g__Methanobrevibacter;s__\n",
      "22 1 k__Bacteria;p__Firmicutes;c__Clostridia;o__Clostridiales;f__[Mogibacteriaceae];g__;s__\n",
      "23 1 k__Bacteria;p__Bacteroidetes;c__Bacteroidia;o__Bacteroidales;f__Rikenellaceae;g__;s__\n",
      "24 1 k__Bacteria;p__Bacteroidetes;c__Bacteroidia;o__Bacteroidales;f__Rikenellaceae;g__;s__\n",
      "25 1 k__Bacteria;p__Firmicutes;c__Clostridia;o__Clostridiales;f__Lachnospiraceae;g__[Ruminococcus];s__\n",
      "26 1 k__Bacteria;p__Firmicutes;c__Clostridia;o__Clostridiales;f__Clostridiaceae;g__Clostridium;s__celatum\n",
      "27 1 k__Bacteria;p__Firmicutes;c__Clostridia;o__Clostridiales;f__Lachnospiraceae\n",
      "28 1 k__Bacteria;p__Firmicutes;c__Clostridia;o__Clostridiales;f__Lachnospiraceae;g__;s__\n",
      "29 1 k__Bacteria;p__Firmicutes;c__Clostridia;o__Clostridiales;f__;g__;s__\n",
      "30 1 k__Bacteria;p__Firmicutes;c__Clostridia;o__Clostridiales;f__Lachnospiraceae;g__Dorea;s__formicigenerans\n",
      "31 1 k__Bacteria;p__Firmicutes;c__Clostridia;o__Clostridiales;f__Ruminococcaceae;g__;s__\n",
      "32 1 k__Bacteria;p__Firmicutes;c__Clostridia;o__Clostridiales;f__Ruminococcaceae;g__Faecalibacterium;s__prausnitzii\n",
      "33 1 k__Bacteria;p__Firmicutes;c__Clostridia;o__Clostridiales;f__Ruminococcaceae;g__Ruminococcus;s__\n",
      "34 1 k__Bacteria;p__Verrucomicrobia;c__Verrucomicrobiae;o__Verrucomicrobiales;f__Verrucomicrobiaceae;g__Akkermansia;s__muciniphila\n",
      "35 1 k__Bacteria;p__Bacteroidetes;c__Bacteroidia;o__Bacteroidales;f__Rikenellaceae;g__;s__\n",
      "36 1 k__Bacteria;p__Bacteroidetes;c__Bacteroidia;o__Bacteroidales;f__Rikenellaceae;g__;s__\n",
      "37 0 k__Bacteria;p__Firmicutes;c__Clostridia;o__Clostridiales;f__Lachnospiraceae;g__Anaerostipes;s__\n",
      "38 0 k__Bacteria;p__Firmicutes;c__Clostridia;o__Clostridiales;f__Lachnospiraceae;g__Blautia;s__obeum\n",
      "39 0 k__Bacteria;p__Firmicutes;c__Clostridia;o__Clostridiales;f__Ruminococcaceae;g__Ruminococcus;s__\n",
      "40 0 k__Bacteria;p__Firmicutes;c__Clostridia;o__Clostridiales;f__Ruminococcaceae;g__Oscillospira;s__\n",
      "41 0 k__Bacteria;p__Firmicutes;c__Clostridia;o__Clostridiales;f__Lachnospiraceae;g__Roseburia\n",
      "42 0 k__Bacteria;p__Firmicutes;c__Clostridia;o__Clostridiales;f__Veillonellaceae;g__Phascolarctobacterium;s__\n",
      "43 0 k__Bacteria;p__Firmicutes;c__Clostridia;o__Clostridiales;f__;g__;s__\n",
      "44 0 k__Bacteria;p__Firmicutes;c__Clostridia;o__Clostridiales;f__Ruminococcaceae;g__;s__\n",
      "45 0 k__Bacteria;p__Firmicutes;c__Clostridia;o__Clostridiales;f__Lachnospiraceae;g__Coprococcus;s__\n",
      "46 0 k__Bacteria;p__Firmicutes;c__Clostridia;o__Clostridiales;f__Lachnospiraceae;g__Coprococcus;s__eutactus\n",
      "47 0 k__Bacteria;p__Firmicutes;c__Clostridia;o__Clostridiales;f__Lachnospiraceae;g__Blautia;s__\n",
      "48 0 k__Bacteria;p__Firmicutes;c__Clostridia;o__Clostridiales;f__Ruminococcaceae;g__;s__\n",
      "49 0 k__Bacteria;p__Firmicutes;c__Clostridia;o__Clostridiales;f__Ruminococcaceae;g__;s__\n",
      "50 0 k__Bacteria;p__Firmicutes;c__Clostridia;o__Clostridiales;f__Ruminococcaceae;g__Ruminococcus;s__flavefaciens\n",
      "51 0 k__Bacteria;p__Firmicutes;c__Clostridia;o__Clostridiales;f__;g__;s__\n",
      "52 0 k__Bacteria;p__Bacteroidetes;c__Bacteroidia;o__Bacteroidales;f__Bacteroidaceae;g__Bacteroides;s__uniformis\n",
      "53 0 k__Bacteria;p__Bacteroidetes;c__Bacteroidia;o__Bacteroidales;f__Rikenellaceae;g__;s__\n",
      "54 0 k__Bacteria;p__Firmicutes;c__Clostridia;o__Clostridiales;f__Veillonellaceae;g__Dialister;s__\n",
      "55 0 k__Bacteria;p__Bacteroidetes;c__Bacteroidia;o__Bacteroidales;f__[Odoribacteraceae];g__Odoribacter;s__\n",
      "56 0 k__Bacteria;p__Firmicutes;c__Clostridia;o__Clostridiales;f__Clostridiaceae;g__;s__\n",
      "57 0 k__Bacteria;p__Proteobacteria;c__Gammaproteobacteria;o__Enterobacteriales;f__Enterobacteriaceae;g__Citrobacter;s__\n",
      "58 0 k__Bacteria;p__Firmicutes;c__Clostridia;o__Clostridiales;f__Clostridiaceae;g__SMB53;s__\n",
      "59 0 k__Bacteria;p__Firmicutes;c__Bacilli;o__Lactobacillales;f__Streptococcaceae;g__Streptococcus;s__\n",
      "60 0 k__Bacteria;p__Firmicutes;c__Clostridia;o__Clostridiales;f__Clostridiaceae;g__SMB53;s__\n",
      "61 0 k__Bacteria;p__Firmicutes;c__Clostridia;o__Clostridiales;f__Lachnospiraceae;g__Roseburia;s__\n",
      "62 0 k__Bacteria;p__Firmicutes;c__Clostridia;o__Clostridiales;f__Ruminococcaceae;g__Ruminococcus;s__bromii\n",
      "63 0 k__Bacteria;p__Firmicutes;c__Clostridia;o__Clostridiales;f__Christensenellaceae;g__;s__\n",
      "64 0 k__Bacteria;p__Firmicutes;c__Clostridia;o__Clostridiales;f__;g__;s__\n",
      "65 0 k__Bacteria;p__Firmicutes;c__Clostridia;o__Clostridiales;f__Ruminococcaceae;g__Oscillospira;s__\n",
      "66 0 k__Bacteria;p__Firmicutes;c__Clostridia;o__Clostridiales;f__Ruminococcaceae;g__Oscillospira;s__\n",
      "67 0 k__Bacteria;p__Firmicutes;c__Clostridia;o__Clostridiales;f__Lachnospiraceae;g__;s__\n",
      "68 0 k__Bacteria;p__Bacteroidetes;c__Bacteroidia;o__Bacteroidales;f__Rikenellaceae;g__;s__\n",
      "69 0 k__Bacteria;p__Firmicutes;c__Clostridia;o__Clostridiales;f__Lachnospiraceae;g__;s__\n",
      "70 0 k__Bacteria;p__Bacteroidetes;c__Bacteroidia;o__Bacteroidales;f__Rikenellaceae;g__;s__\n",
      "71 0 k__Bacteria;p__Firmicutes;c__Clostridia;o__Clostridiales;f__Ruminococcaceae;g__Oscillospira;s__\n",
      "72 0 k__Bacteria;p__Firmicutes;c__Clostridia;o__Clostridiales;f__Ruminococcaceae;g__;s__\n",
      "73 0 k__Bacteria;p__Firmicutes;c__Bacilli;o__Bacillales;f__Planococcaceae;g__Sporosarcina;s__ginsengi\n",
      "74 0 k__Bacteria;p__Firmicutes;c__Bacilli;o__Lactobacillales;f__Enterococcaceae;g__Enterococcus;s__\n",
      "75 0 k__Bacteria;p__Bacteroidetes;c__Bacteroidia;o__Bacteroidales;f__Bacteroidaceae;g__Bacteroides;s__uniformis\n",
      "76 0 k__Bacteria;p__Firmicutes;c__Clostridia;o__Clostridiales;f__Lachnospiraceae\n",
      "77 0 k__Bacteria;p__Proteobacteria;c__Gammaproteobacteria;o__Pseudomonadales;f__Pseudomonadaceae;g__Pseudomonas;s__\n",
      "78 0 k__Bacteria;p__Firmicutes;c__Clostridia;o__Clostridiales;f__[Tissierellaceae];g__WAL_1855D;s__\n",
      "79 0 k__Bacteria;p__Firmicutes;c__Clostridia;o__Clostridiales;f__Lachnospiraceae\n",
      "80 0 k__Bacteria;p__Firmicutes;c__Clostridia;o__Clostridiales;f__Lachnospiraceae;g__Coprococcus;s__\n",
      "81 0 k__Bacteria;p__Firmicutes;c__Clostridia;o__Clostridiales;f__Lachnospiraceae;g__Coprococcus;s__eutactus\n",
      "82 0 k__Bacteria;p__Bacteroidetes;c__Bacteroidia;o__Bacteroidales;f__Bacteroidaceae;g__Bacteroides\n",
      "83 0 k__Bacteria;p__Firmicutes;c__Clostridia;o__Clostridiales;f__Ruminococcaceae;g__;s__\n",
      "84 0 k__Bacteria;p__Firmicutes;c__Clostridia;o__Clostridiales;f__Lachnospiraceae\n",
      "85 0 k__Bacteria;p__Firmicutes;c__Clostridia;o__Clostridiales;f__Christensenellaceae;g__;s__\n",
      "86 0 k__Bacteria;p__Bacteroidetes;c__Bacteroidia;o__Bacteroidales;f__Bacteroidaceae;g__Bacteroides;s__caccae\n",
      "87 0 k__Bacteria;p__Bacteroidetes;c__Bacteroidia;o__Bacteroidales;f__[Barnesiellaceae];g__;s__\n",
      "88 0 k__Bacteria;p__Firmicutes;c__Clostridia;o__Clostridiales;f__Ruminococcaceae;g__;s__\n",
      "89 0 k__Bacteria;p__Firmicutes;c__Clostridia;o__Clostridiales;f__Ruminococcaceae;g__Oscillospira;s__\n",
      "90 0 k__Bacteria;p__Firmicutes;c__Clostridia;o__Clostridiales;f__Ruminococcaceae\n",
      "91 0 k__Bacteria;p__Bacteroidetes;c__Bacteroidia;o__Bacteroidales;f__Rikenellaceae;g__Alistipes;s__massiliensis\n",
      "92 0 k__Bacteria;p__Firmicutes;c__Clostridia;o__Clostridiales;f__Lachnospiraceae;g__[Ruminococcus];s__torques\n",
      "93 0 k__Bacteria;p__Firmicutes;c__Clostridia;o__Clostridiales;f__Ruminococcaceae;g__;s__\n",
      "94 0 k__Bacteria;p__Firmicutes;c__Clostridia;o__Clostridiales;f__Ruminococcaceae\n",
      "95 0 k__Bacteria;p__Firmicutes;c__Clostridia;o__Clostridiales;f__Ruminococcaceae;g__Oscillospira;s__\n",
      "96 0 k__Bacteria;p__Tenericutes;c__Mollicutes;o__RF39;f__;g__;s__\n",
      "97 0 k__Bacteria;p__Firmicutes;c__Clostridia;o__Clostridiales;f__Ruminococcaceae;g__Ruminococcus;s__callidus\n",
      "98 0 k__Bacteria;p__Actinobacteria;c__Actinobacteria;o__Bifidobacteriales;f__Bifidobacteriaceae;g__Bifidobacterium;s__\n",
      "99 0 k__Bacteria;p__Actinobacteria;c__Actinobacteria;o__Actinomycetales;f__Corynebacteriaceae;g__Corynebacterium;s__\n",
      "100 0 k__Bacteria;p__Firmicutes;c__Clostridia;o__Clostridiales;f__Lachnospiraceae;g__[Ruminococcus];s__\n",
      "101 0 k__Bacteria;p__Firmicutes;c__Clostridia;o__Clostridiales;f__Ruminococcaceae\n",
      "102 0 k__Bacteria;p__Firmicutes;c__Clostridia;o__Clostridiales;f__Ruminococcaceae;g__;s__\n",
      "103 0 k__Bacteria;p__Firmicutes;c__Clostridia;o__Clostridiales;f__Ruminococcaceae;g__;s__\n",
      "104 0 k__Bacteria;p__Firmicutes;c__Clostridia;o__Clostridiales;f__Ruminococcaceae;g__Ruminococcus;s__\n",
      "105 0 k__Bacteria;p__Firmicutes;c__Clostridia;o__Clostridiales;f__;g__;s__\n",
      "106 0 k__Bacteria;p__Firmicutes;c__Clostridia;o__Clostridiales;f__[Mogibacteriaceae];g__;s__\n",
      "107 0 k__Bacteria;p__Firmicutes;c__Clostridia;o__Clostridiales;f__Lachnospiraceae;g__;s__\n",
      "108 0 k__Bacteria;p__Firmicutes;c__Clostridia;o__Clostridiales;f__Ruminococcaceae;g__Oscillospira;s__\n",
      "109 0 k__Bacteria;p__Bacteroidetes;c__Bacteroidia;o__Bacteroidales;f__Rikenellaceae;g__Alistipes;s__indistinctus\n",
      "110 0 k__Bacteria;p__Firmicutes;c__Clostridia;o__Clostridiales;f__;g__;s__\n",
      "111 0 k__Bacteria;p__Firmicutes;c__Clostridia;o__Clostridiales;f__Ruminococcaceae;g__Oscillospira;s__\n",
      "112 0 k__Bacteria;p__Bacteroidetes;c__Bacteroidia;o__Bacteroidales;f__Rikenellaceae;g__;s__\n",
      "113 0 k__Bacteria;p__Bacteroidetes;c__Bacteroidia;o__Bacteroidales;f__Bacteroidaceae;g__Bacteroides;s__\n",
      "114 0 k__Bacteria;p__Proteobacteria;c__Gammaproteobacteria;o__Pseudomonadales;f__Pseudomonadaceae;g__Pseudomonas;s__\n",
      "115 0 k__Bacteria;p__Firmicutes;c__Clostridia;o__Clostridiales;f__Lachnospiraceae;g__Coprococcus;s__\n",
      "116 0 k__Bacteria;p__Proteobacteria;c__Gammaproteobacteria;o__Enterobacteriales;f__Enterobacteriaceae\n",
      "117 0 k__Bacteria;p__Tenericutes;c__Mollicutes;o__RF39;f__;g__;s__\n",
      "118 0 k__Bacteria;p__Firmicutes;c__Clostridia;o__Clostridiales;f__;g__;s__\n",
      "119 0 k__Bacteria;p__Firmicutes;c__Clostridia;o__Clostridiales;f__Ruminococcaceae;g__Faecalibacterium\n",
      "120 0 k__Bacteria;p__Firmicutes;c__Clostridia;o__Clostridiales;f__Lachnospiraceae;g__Lachnospira;s__\n",
      "121 0 k__Bacteria;p__Firmicutes;c__Clostridia;o__Clostridiales;f__Ruminococcaceae;g__Oscillospira;s__\n",
      "122 0 k__Bacteria;p__Firmicutes;c__Bacilli;o__Bacillales;f__Staphylococcaceae;g__Staphylococcus;s__\n",
      "123 0 k__Bacteria;p__Bacteroidetes;c__Bacteroidia;o__Bacteroidales;f__[Barnesiellaceae];g__;s__\n",
      "124 0 k__Bacteria;p__Firmicutes;c__Clostridia;o__Clostridiales;f__Lachnospiraceae;g__Lachnospira;s__\n",
      "125 0 k__Bacteria;p__Bacteroidetes;c__Bacteroidia;o__Bacteroidales;f__Bacteroidaceae;g__Bacteroides;s__\n",
      "126 0 k__Bacteria;p__Proteobacteria;c__Gammaproteobacteria;o__Pasteurellales;f__Pasteurellaceae;g__Haemophilus;s__parainfluenzae\n",
      "127 0 k__Bacteria;p__Firmicutes;c__Clostridia;o__Clostridiales;f__Ruminococcaceae;g__Oscillospira;s__\n",
      "128 0 k__Bacteria;p__Firmicutes;c__Clostridia;o__Clostridiales;f__Ruminococcaceae;g__;s__\n",
      "129 0 k__Bacteria;p__Firmicutes;c__Clostridia;o__Clostridiales;f__Ruminococcaceae;g__Ruminococcus\n",
      "130 0 k__Bacteria;p__Firmicutes;c__Clostridia;o__Clostridiales;f__Lachnospiraceae;g__Coprococcus;s__eutactus\n",
      "131 0 k__Bacteria;p__Actinobacteria;c__Coriobacteriia;o__Coriobacteriales;f__Coriobacteriaceae;g__;s__\n",
      "132 0 k__Bacteria;p__Firmicutes;c__Bacilli;o__Lactobacillales;f__Streptococcaceae;g__Streptococcus;s__\n",
      "133 0 k__Bacteria;p__Firmicutes;c__Clostridia;o__Clostridiales;f__Lachnospiraceae;g__Coprococcus;s__\n",
      "134 0 k__Bacteria;p__Firmicutes;c__Erysipelotrichi;o__Erysipelotrichales;f__Erysipelotrichaceae;g__[Eubacterium];s__biforme\n",
      "135 0 k__Bacteria;p__Firmicutes;c__Clostridia;o__Clostridiales;f__Lachnospiraceae;g__;s__\n",
      "136 0 k__Bacteria;p__Bacteroidetes;c__Bacteroidia;o__Bacteroidales;f__Bacteroidaceae;g__Bacteroides\n",
      "137 0 k__Bacteria;p__Firmicutes;c__Clostridia;o__Clostridiales;f__Ruminococcaceae;g__Oscillospira;s__\n",
      "138 0 k__Bacteria;p__Firmicutes;c__Clostridia;o__Clostridiales;f__Ruminococcaceae;g__Ruminococcus;s__bromii\n",
      "139 0 k__Bacteria;p__Firmicutes;c__Clostridia;o__Clostridiales;f__Lachnospiraceae;g__;s__\n",
      "140 0 k__Bacteria;p__Firmicutes;c__Clostridia;o__Clostridiales;f__Lachnospiraceae;g__;s__\n",
      "141 0 k__Bacteria;p__Firmicutes;c__Clostridia;o__Clostridiales;f__Ruminococcaceae;g__Faecalibacterium;s__prausnitzii\n",
      "142 0 k__Bacteria;p__Firmicutes;c__Clostridia;o__Clostridiales;f__Ruminococcaceae;g__;s__\n",
      "143 0 k__Bacteria;p__Firmicutes\n",
      "144 0 k__Bacteria;p__Firmicutes;c__Clostridia;o__Clostridiales;f__Ruminococcaceae;g__Oscillospira;s__\n",
      "145 0 k__Bacteria;p__Firmicutes;c__Clostridia;o__Clostridiales;f__Lachnospiraceae\n",
      "146 0 k__Bacteria;p__Bacteroidetes;c__Bacteroidia;o__Bacteroidales;f__Bacteroidaceae;g__Bacteroides;s__eggerthii\n",
      "147 0 k__Bacteria;p__Bacteroidetes;c__Bacteroidia;o__Bacteroidales;f__Rikenellaceae;g__;s__\n",
      "148 0 k__Bacteria;p__Actinobacteria;c__Coriobacteriia;o__Coriobacteriales;f__Coriobacteriaceae;g__Collinsella;s__aerofaciens\n",
      "149 0 k__Bacteria;p__Firmicutes;c__Erysipelotrichi;o__Erysipelotrichales;f__Erysipelotrichaceae;g__cc_115;s__\n",
      "150 0 k__Bacteria;p__Firmicutes;c__Clostridia;o__Clostridiales;f__;g__;s__\n",
      "151 0 k__Bacteria;p__Firmicutes;c__Clostridia;o__Clostridiales;f__Lachnospiraceae;g__[Ruminococcus];s__gnavus\n",
      "152 0 k__Bacteria;p__Proteobacteria;c__Gammaproteobacteria;o__Pseudomonadales;f__Pseudomonadaceae;g__Pseudomonas;s__fragi\n",
      "153 0 k__Bacteria;p__Firmicutes;c__Clostridia;o__Clostridiales;f__Lachnospiraceae\n",
      "154 0 k__Bacteria;p__Firmicutes;c__Clostridia;o__Clostridiales;f__Lachnospiraceae;g__;s__\n",
      "155 0 k__Bacteria;p__Bacteroidetes;c__Bacteroidia;o__Bacteroidales;f__Prevotellaceae;g__Prevotella;s__copri\n",
      "156 0 k__Bacteria;p__Firmicutes;c__Clostridia;o__Clostridiales;f__Lachnospiraceae;g__;s__\n",
      "157 0 k__Bacteria;p__Bacteroidetes;c__Bacteroidia;o__Bacteroidales;f__Rikenellaceae;g__;s__\n",
      "158 0 k__Bacteria;p__Actinobacteria;c__Actinobacteria;o__Actinomycetales;f__Corynebacteriaceae;g__Corynebacterium\n",
      "159 0 k__Bacteria;p__Firmicutes;c__Clostridia;o__Clostridiales;f__Ruminococcaceae;g__Oscillospira;s__\n",
      "160 0 k__Bacteria;p__Firmicutes;c__Clostridia;o__Clostridiales;f__Ruminococcaceae;g__Butyricicoccus;s__pullicaecorum\n",
      "161 0 k__Bacteria;p__Firmicutes;c__Clostridia;o__Clostridiales;f__Ruminococcaceae;g__Ruminococcus\n",
      "162 0 k__Bacteria;p__Firmicutes;c__Clostridia;o__Clostridiales\n",
      "163 0 k__Bacteria;p__Bacteroidetes;c__Bacteroidia;o__Bacteroidales;f__Bacteroidaceae;g__Bacteroides;s__uniformis\n",
      "164 0 k__Bacteria;p__Actinobacteria;c__Actinobacteria;o__Bifidobacteriales;f__Bifidobacteriaceae;g__Bifidobacterium;s__\n",
      "165 0 k__Bacteria;p__Firmicutes;c__Clostridia;o__Clostridiales;f__Lachnospiraceae;g__Lachnospira;s__\n",
      "166 0 k__Bacteria;p__Firmicutes;c__Clostridia;o__Clostridiales;f__Lachnospiraceae;g__Coprococcus;s__\n",
      "167 0 k__Bacteria;p__Firmicutes;c__Clostridia;o__Clostridiales;f__Lachnospiraceae;g__Roseburia;s__\n",
      "168 0 k__Bacteria;p__Actinobacteria;c__Actinobacteria;o__Bifidobacteriales;f__Bifidobacteriaceae;g__Bifidobacterium;s__\n",
      "169 0 k__Bacteria;p__Tenericutes;c__Mollicutes;o__RF39;f__;g__;s__\n",
      "170 0 k__Bacteria;p__Firmicutes;c__Erysipelotrichi;o__Erysipelotrichales;f__Erysipelotrichaceae;g__[Eubacterium];s__biforme\n",
      "171 0 k__Bacteria;p__Proteobacteria;c__Betaproteobacteria;o__Burkholderiales;f__Alcaligenaceae;g__Sutterella;s__\n",
      "172 0 k__Bacteria;p__Firmicutes;c__Clostridia;o__Clostridiales;f__Ruminococcaceae;g__Oscillospira;s__\n",
      "173 0 k__Bacteria;p__Firmicutes;c__Clostridia;o__Clostridiales;f__Ruminococcaceae;g__Ruminococcus;s__\n",
      "174 0 k__Bacteria;p__Bacteroidetes;c__Bacteroidia;o__Bacteroidales;f__Prevotellaceae;g__Prevotella;s__\n",
      "175 0 k__Bacteria;p__Firmicutes;c__Clostridia;o__Clostridiales;f__Ruminococcaceae;g__Ruminococcus;s__bromii\n",
      "176 0 k__Bacteria;p__Firmicutes;c__Clostridia;o__Clostridiales;f__;g__;s__\n",
      "177 0 k__Bacteria;p__Firmicutes;c__Clostridia;o__Clostridiales;f__Christensenellaceae;g__;s__\n",
      "178 0 k__Bacteria;p__Proteobacteria;c__Gammaproteobacteria;o__Enterobacteriales;f__Enterobacteriaceae;g__;s__\n",
      "179 0 k__Bacteria;p__Firmicutes;c__Clostridia;o__Clostridiales\n",
      "180 0 k__Bacteria;p__Bacteroidetes;c__Bacteroidia;o__Bacteroidales;f__Rikenellaceae;g__;s__\n",
      "181 0 k__Bacteria;p__Firmicutes;c__Clostridia;o__Clostridiales;f__Lachnospiraceae;g__Blautia\n",
      "182 0 k__Bacteria;p__Bacteroidetes;c__Bacteroidia;o__Bacteroidales;f__Bacteroidaceae;g__Bacteroides;s__ovatus\n",
      "183 0 k__Bacteria;p__Firmicutes;c__Clostridia;o__Clostridiales;f__Ruminococcaceae;g__Oscillospira;s__\n",
      "184 0 k__Bacteria;p__Firmicutes;c__Clostridia;o__Clostridiales\n",
      "185 0 k__Bacteria;p__Firmicutes;c__Clostridia;o__Clostridiales;f__Ruminococcaceae;g__Ruminococcus;s__\n",
      "186 0 k__Bacteria;p__Firmicutes;c__Clostridia;o__Clostridiales;f__Ruminococcaceae;g__;s__\n",
      "187 0 k__Bacteria;p__Firmicutes;c__Clostridia;o__Clostridiales;f__;g__;s__\n",
      "188 0 k__Bacteria;p__Firmicutes;c__Clostridia;o__Clostridiales;f__;g__;s__\n",
      "189 0 k__Bacteria;p__Firmicutes;c__Clostridia;o__Clostridiales;f__Clostridiaceae;g__Clostridium;s__celatum\n",
      "190 0 k__Bacteria;p__Firmicutes;c__Clostridia;o__Clostridiales;f__Ruminococcaceae;g__;s__\n",
      "191 0 k__Bacteria;p__Firmicutes;c__Clostridia;o__Clostridiales;f__Lachnospiraceae;g__Blautia;s__\n",
      "192 0 k__Bacteria;p__Firmicutes;c__Clostridia;o__Clostridiales;f__;g__;s__\n",
      "193 0 k__Bacteria;p__Firmicutes;c__Clostridia;o__Clostridiales;f__Clostridiaceae;g__02d06;s__\n",
      "194 0 k__Bacteria;p__Bacteroidetes;c__Bacteroidia;o__Bacteroidales;f__Bacteroidaceae;g__Bacteroides;s__eggerthii\n",
      "195 0 k__Bacteria;p__Firmicutes;c__Clostridia;o__Clostridiales\n",
      "196 0 k__Bacteria;p__Firmicutes;c__Clostridia;o__Clostridiales;f__Ruminococcaceae;g__Oscillospira;s__\n",
      "197 0 k__Bacteria;p__Firmicutes;c__Clostridia;o__Clostridiales;f__[Mogibacteriaceae];g__;s__\n",
      "198 0 k__Bacteria;p__Firmicutes;c__Clostridia;o__Clostridiales;f__;g__;s__\n",
      "199 0 k__Bacteria;p__Firmicutes;c__Clostridia;o__Clostridiales;f__Lachnospiraceae;g__Clostridium;s__citroniae\n",
      "200 0 k__Bacteria;p__Bacteroidetes;c__Bacteroidia;o__Bacteroidales;f__Rikenellaceae;g__;s__\n",
      "201 0 k__Bacteria;p__Bacteroidetes;c__Bacteroidia;o__Bacteroidales;f__[Barnesiellaceae];g__;s__\n",
      "202 0 k__Bacteria;p__Bacteroidetes\n",
      "203 0 k__Bacteria;p__Tenericutes;c__RF3;o__ML615J-28;f__;g__;s__\n",
      "204 0 k__Bacteria;p__Firmicutes;c__Clostridia;o__Clostridiales;f__Ruminococcaceae;g__Oscillospira;s__\n",
      "205 0 k__Bacteria;p__Tenericutes;c__Mollicutes;o__RF39;f__;g__;s__\n",
      "206 0 k__Bacteria;p__Firmicutes;c__Clostridia;o__Clostridiales;f__Ruminococcaceae;g__Ruminococcus;s__bromii\n",
      "207 0 k__Bacteria;p__Firmicutes;c__Clostridia;o__Clostridiales;f__Lachnospiraceae;g__Coprococcus;s__\n",
      "208 0 k__Bacteria;p__Actinobacteria;c__Coriobacteriia;o__Coriobacteriales;f__Coriobacteriaceae;g__;s__\n",
      "209 0 k__Bacteria;p__Firmicutes;c__Clostridia;o__Clostridiales;f__[Mogibacteriaceae];g__;s__\n",
      "210 0 k__Bacteria;p__Firmicutes;c__Clostridia;o__Clostridiales;f__;g__;s__\n",
      "211 0 k__Bacteria;p__Bacteroidetes;c__Bacteroidia;o__Bacteroidales;f__[Barnesiellaceae];g__;s__\n",
      "212 0 k__Bacteria;p__Firmicutes;c__Clostridia;o__Clostridiales;f__Lachnospiraceae;g__;s__\n",
      "213 0 k__Bacteria;p__Firmicutes;c__Clostridia;o__Clostridiales;f__[Tissierellaceae];g__Finegoldia;s__\n",
      "214 0 k__Bacteria;p__Proteobacteria;c__Betaproteobacteria;o__Burkholderiales;f__Alcaligenaceae;g__Sutterella;s__\n",
      "215 0 k__Bacteria;p__Firmicutes;c__Clostridia;o__Clostridiales;f__Ruminococcaceae;g__Ruminococcus;s__\n",
      "216 0 k__Bacteria;p__Firmicutes;c__Clostridia;o__Clostridiales;f__Ruminococcaceae;g__Faecalibacterium;s__prausnitzii\n",
      "217 0 k__Bacteria;p__Tenericutes;c__Mollicutes;o__RF39;f__;g__;s__\n",
      "218 0 k__Bacteria;p__Firmicutes;c__Clostridia;o__Clostridiales;f__Clostridiaceae;g__02d06;s__\n",
      "219 0 k__Bacteria;p__Bacteroidetes;c__Bacteroidia;o__Bacteroidales;f__[Barnesiellaceae];g__;s__\n",
      "220 0 k__Bacteria;p__Bacteroidetes;c__Bacteroidia;o__Bacteroidales;f__Prevotellaceae;g__Prevotella;s__\n",
      "221 0 k__Bacteria;p__Proteobacteria;c__Betaproteobacteria;o__Burkholderiales;f__Alcaligenaceae;g__Sutterella;s__\n",
      "222 0 k__Bacteria;p__Bacteroidetes;c__Bacteroidia;o__Bacteroidales;f__Rikenellaceae;g__;s__\n",
      "223 0 k__Bacteria;p__Firmicutes;c__Clostridia;o__Clostridiales;f__Ruminococcaceae;g__;s__\n",
      "224 0 k__Bacteria;p__Proteobacteria;c__Deltaproteobacteria;o__Desulfovibrionales;f__Desulfovibrionaceae;g__Desulfovibrio;s__\n",
      "225 0 k__Bacteria;p__Bacteroidetes;c__Bacteroidia;o__Bacteroidales;f__Bacteroidaceae;g__Bacteroides;s__\n",
      "226 0 k__Bacteria;p__Bacteroidetes;c__Bacteroidia;o__Bacteroidales;f__Rikenellaceae;g__;s__\n",
      "227 0 k__Bacteria;p__Tenericutes;c__Mollicutes;o__RF39;f__;g__;s__\n",
      "228 0 k__Bacteria;p__Firmicutes;c__Clostridia;o__Clostridiales;f__;g__;s__\n",
      "229 0 k__Bacteria;p__Firmicutes;c__Clostridia;o__Clostridiales;f__Ruminococcaceae\n",
      "230 0 k__Bacteria;p__Firmicutes;c__Clostridia;o__Clostridiales;f__Lachnospiraceae;g__Coprococcus;s__\n",
      "231 0 k__Bacteria;p__Bacteroidetes;c__Bacteroidia;o__Bacteroidales\n",
      "232 0 k__Bacteria;p__Firmicutes;c__Clostridia;o__Clostridiales;f__Ruminococcaceae;g__Oscillospira;s__\n",
      "233 0 k__Bacteria;p__Bacteroidetes;c__Bacteroidia;o__Bacteroidales;f__Bacteroidaceae;g__Bacteroides;s__\n",
      "234 0 k__Bacteria;p__Proteobacteria;c__Betaproteobacteria;o__Burkholderiales;f__Alcaligenaceae;g__Sutterella;s__\n",
      "235 0 k__Bacteria;p__Firmicutes;c__Erysipelotrichi;o__Erysipelotrichales;f__Erysipelotrichaceae;g__Holdemania;s__\n",
      "236 0 k__Bacteria;p__Firmicutes;c__Clostridia;o__Clostridiales;f__Ruminococcaceae;g__Oscillospira;s__\n",
      "237 0 k__Bacteria;p__Bacteroidetes;c__Bacteroidia;o__Bacteroidales;f__Bacteroidaceae;g__Bacteroides;s__uniformis\n",
      "238 0 k__Bacteria;p__Bacteroidetes;c__Bacteroidia;o__Bacteroidales;f__Bacteroidaceae;g__Bacteroides;s__\n",
      "239 0 k__Bacteria;p__Firmicutes;c__Clostridia;o__Clostridiales;f__Lachnospiraceae\n",
      "240 0 k__Bacteria;p__Firmicutes;c__Clostridia;o__Clostridiales;f__Lachnospiraceae;g__[Ruminococcus];s__gnavus\n",
      "241 0 k__Bacteria;p__Firmicutes;c__Clostridia;o__Clostridiales;f__[Tissierellaceae];g__1-68;s__\n",
      "242 0 k__Bacteria;p__Firmicutes;c__Clostridia;o__Clostridiales;f__Lachnospiraceae;g__Anaerostipes;s__\n",
      "243 0 k__Bacteria;p__Firmicutes;c__Clostridia;o__Clostridiales;f__Lachnospiraceae;g__Blautia;s__\n",
      "244 0 k__Bacteria;p__Firmicutes;c__Clostridia;o__Clostridiales;f__Lachnospiraceae;g__Roseburia\n",
      "245 0 k__Bacteria;p__Bacteroidetes;c__Bacteroidia;o__Bacteroidales;f__Bacteroidaceae;g__Bacteroides;s__\n",
      "246 0 k__Bacteria;p__Bacteroidetes;c__Bacteroidia;o__Bacteroidales;f__Bacteroidaceae;g__Bacteroides;s__\n",
      "247 0 k__Bacteria;p__Firmicutes;c__Erysipelotrichi;o__Erysipelotrichales;f__Erysipelotrichaceae;g__Catenibacterium;s__\n",
      "248 0 k__Bacteria;p__Bacteroidetes;c__Bacteroidia;o__Bacteroidales;f__Bacteroidaceae;g__Bacteroides;s__\n",
      "249 0 k__Bacteria;p__Tenericutes;c__Mollicutes;o__Anaeroplasmatales;f__Anaeroplasmataceae;g__;s__\n",
      "250 0 k__Bacteria;p__Actinobacteria;c__Coriobacteriia;o__Coriobacteriales;f__Coriobacteriaceae;g__;s__\n",
      "251 0 k__Bacteria;p__Firmicutes;c__Clostridia;o__Clostridiales;f__Ruminococcaceae;g__Ruminococcus;s__\n",
      "252 0 k__Bacteria;p__Firmicutes;c__Clostridia;o__Clostridiales;f__Christensenellaceae;g__;s__\n",
      "253 0 k__Bacteria;p__Firmicutes;c__Clostridia;o__Clostridiales;f__Lachnospiraceae;g__;s__\n",
      "254 0 k__Bacteria;p__Firmicutes;c__Clostridia;o__Clostridiales;f__Lachnospiraceae\n",
      "255 0 k__Bacteria;p__Firmicutes;c__Clostridia;o__Clostridiales;f__Ruminococcaceae\n",
      "256 0 k__Bacteria;p__Actinobacteria;c__Coriobacteriia;o__Coriobacteriales;f__Coriobacteriaceae;g__;s__\n",
      "257 0 k__Bacteria;p__Firmicutes;c__Bacilli;o__Turicibacterales;f__Turicibacteraceae;g__Turicibacter;s__\n",
      "258 0 k__Bacteria;p__Firmicutes\n",
      "259 0 k__Bacteria;p__Firmicutes;c__Clostridia;o__Clostridiales;f__Lachnospiraceae\n",
      "260 0 k__Bacteria;p__Tenericutes;c__Mollicutes;o__RF39;f__;g__;s__\n",
      "261 0 k__Bacteria;p__Actinobacteria;c__Coriobacteriia;o__Coriobacteriales;f__Coriobacteriaceae;g__;s__\n",
      "262 0 k__Bacteria;p__Tenericutes;c__Mollicutes;o__RF39;f__;g__;s__\n",
      "263 0 k__Bacteria;p__Firmicutes\n",
      "264 0 k__Bacteria;p__Firmicutes;c__Clostridia;o__Clostridiales;f__Ruminococcaceae;g__Ruminococcus;s__bromii\n",
      "265 0 k__Bacteria;p__Firmicutes;c__Clostridia;o__Clostridiales;f__;g__;s__\n",
      "266 0 k__Bacteria;p__Firmicutes;c__Clostridia;o__Clostridiales;f__[Mogibacteriaceae];g__;s__\n",
      "267 0 k__Bacteria;p__Firmicutes;c__Clostridia;o__Clostridiales;f__[Mogibacteriaceae];g__;s__\n",
      "268 0 k__Bacteria;p__Firmicutes;c__Clostridia;o__Clostridiales;f__;g__;s__\n",
      "269 0 k__Bacteria;p__Firmicutes;c__Bacilli;o__Lactobacillales;f__Lactobacillaceae;g__;s__\n",
      "270 0 k__Bacteria;p__Firmicutes;c__Clostridia;o__Clostridiales;f__Ruminococcaceae;g__;s__\n",
      "271 0 k__Bacteria;p__Firmicutes;c__Clostridia;o__Clostridiales;f__Ruminococcaceae;g__;s__\n",
      "272 0 k__Bacteria;p__Proteobacteria;c__Deltaproteobacteria;o__Desulfovibrionales;f__Desulfovibrionaceae;g__Desulfovibrio;s__\n",
      "273 0 k__Bacteria;p__Firmicutes;c__Clostridia;o__Clostridiales;f__Ruminococcaceae;g__;s__\n",
      "274 0 k__Bacteria;p__Firmicutes;c__Clostridia;o__Clostridiales;f__Ruminococcaceae;g__Oscillospira;s__\n",
      "275 0 k__Bacteria;p__Firmicutes;c__Clostridia;o__Clostridiales;f__Lachnospiraceae;g__Lachnospira;s__\n",
      "276 0 k__Bacteria;p__Tenericutes;c__Mollicutes;o__RF39;f__;g__;s__\n",
      "277 0 k__Bacteria;p__Firmicutes;c__Clostridia;o__Clostridiales;f__Ruminococcaceae;g__Faecalibacterium;s__prausnitzii\n",
      "278 0 k__Bacteria;p__Bacteroidetes;c__Bacteroidia;o__Bacteroidales;f__Bacteroidaceae;g__Bacteroides;s__\n",
      "279 0 k__Bacteria;p__Bacteroidetes;c__Bacteroidia;o__Bacteroidales;f__Bacteroidaceae;g__Bacteroides;s__\n",
      "280 0 k__Bacteria;p__Firmicutes;c__Clostridia;o__Clostridiales;f__Ruminococcaceae;g__;s__\n",
      "281 0 k__Bacteria;p__Firmicutes;c__Clostridia;o__Clostridiales;f__Lachnospiraceae\n",
      "282 0 k__Bacteria;p__Firmicutes;c__Clostridia;o__Clostridiales;f__Ruminococcaceae;g__Oscillospira;s__\n",
      "283 0 k__Bacteria;p__Firmicutes;c__Clostridia;o__Clostridiales;f__Ruminococcaceae;g__;s__\n",
      "284 0 k__Bacteria;p__Firmicutes;c__Bacilli;o__Bacillales;f__Bacillaceae;g__Bacillus;s__clausii\n",
      "285 0 k__Bacteria;p__Firmicutes;c__Clostridia;o__Clostridiales;f__[Mogibacteriaceae];g__;s__\n",
      "286 0 k__Bacteria;p__Proteobacteria;c__Gammaproteobacteria;o__Enterobacteriales;f__Enterobacteriaceae;g__Trabulsiella;s__farmeri\n",
      "287 0 k__Bacteria;p__Firmicutes;c__Clostridia;o__Clostridiales;f__Ruminococcaceae;g__Oscillospira;s__\n",
      "288 0 k__Bacteria;p__Bacteroidetes;c__Bacteroidia;o__Bacteroidales;f__Bacteroidaceae;g__Bacteroides;s__\n",
      "289 0 k__Bacteria;p__Firmicutes;c__Clostridia;o__Clostridiales;f__Ruminococcaceae;g__Ruminococcus;s__\n",
      "290 0 k__Bacteria;p__Firmicutes;c__Clostridia;o__Clostridiales;f__Ruminococcaceae;g__Ruminococcus;s__\n",
      "291 0 k__Bacteria;p__Bacteroidetes;c__Bacteroidia;o__Bacteroidales;f__Bacteroidaceae;g__Bacteroides\n",
      "292 0 k__Bacteria;p__Proteobacteria;c__Betaproteobacteria;o__Burkholderiales;f__Alcaligenaceae;g__Sutterella;s__\n",
      "293 0 k__Bacteria;p__Bacteroidetes;c__Bacteroidia;o__Bacteroidales;f__[Barnesiellaceae];g__;s__\n",
      "294 0 k__Bacteria;p__Firmicutes;c__Clostridia;o__Clostridiales;f__Ruminococcaceae\n",
      "295 0 k__Bacteria;p__Bacteroidetes;c__Bacteroidia;o__Bacteroidales;f__[Barnesiellaceae];g__;s__\n",
      "296 0 k__Bacteria;p__Firmicutes;c__Clostridia;o__Clostridiales;f__Ruminococcaceae;g__Oscillospira;s__\n",
      "297 0 k__Bacteria;p__Firmicutes;c__Clostridia;o__Clostridiales;f__Ruminococcaceae;g__Ruminococcus;s__bromii\n",
      "298 0 k__Bacteria;p__Tenericutes;c__Mollicutes;o__RF39;f__;g__;s__\n",
      "299 0 k__Bacteria;p__Proteobacteria;c__Gammaproteobacteria;o__Pseudomonadales;f__Moraxellaceae;g__Acinetobacter;s__\n",
      "300 0 k__Bacteria;p__Bacteroidetes;c__Bacteroidia;o__Bacteroidales;f__;g__;s__\n",
      "301 0 k__Bacteria;p__Firmicutes;c__Clostridia;o__Clostridiales;f__Lachnospiraceae;g__Blautia;s__producta\n",
      "302 0 k__Bacteria;p__Firmicutes;c__Clostridia;o__Clostridiales;f__Ruminococcaceae;g__;s__\n",
      "303 0 k__Bacteria;p__Firmicutes;c__Clostridia;o__Clostridiales;f__Ruminococcaceae;g__Ruminococcus;s__\n",
      "304 0 k__Bacteria;p__Bacteroidetes;c__Bacteroidia;o__Bacteroidales;f__[Odoribacteraceae];g__Butyricimonas;s__\n",
      "305 0 k__Bacteria;p__Firmicutes;c__Bacilli;o__Lactobacillales;f__Lactobacillaceae;g__Lactobacillus;s__zeae\n",
      "306 0 k__Bacteria;p__Bacteroidetes;c__Bacteroidia;o__Bacteroidales;f__Prevotellaceae;g__;s__\n",
      "307 0 k__Bacteria;p__Firmicutes;c__Clostridia;o__Clostridiales;f__Ruminococcaceae;g__Ruminococcus;s__flavefaciens\n",
      "308 0 k__Bacteria;p__Firmicutes;c__Clostridia;o__Clostridiales;f__Lachnospiraceae;g__;s__\n",
      "309 0 k__Bacteria;p__Firmicutes;c__Clostridia;o__Clostridiales;f__;g__;s__\n",
      "310 0 k__Bacteria;p__Proteobacteria;c__Gammaproteobacteria;o__Enterobacteriales;f__Enterobacteriaceae;g__Proteus;s__\n",
      "311 0 k__Bacteria;p__Firmicutes;c__Clostridia;o__Clostridiales;f__Lachnospiraceae\n",
      "312 0 k__Bacteria;p__Actinobacteria;c__Coriobacteriia;o__Coriobacteriales;f__Coriobacteriaceae;g__Collinsella;s__aerofaciens\n",
      "313 0 k__Bacteria;p__Firmicutes;c__Clostridia;o__Clostridiales;f__Lachnospiraceae\n",
      "314 0 k__Bacteria;p__Firmicutes;c__Clostridia;o__Clostridiales;f__Lachnospiraceae\n",
      "315 0 k__Bacteria;p__Firmicutes;c__Erysipelotrichi;o__Erysipelotrichales;f__Erysipelotrichaceae;g__[Eubacterium];s__\n",
      "316 0 k__Bacteria;p__Firmicutes;c__Clostridia;o__Clostridiales;f__Ruminococcaceae;g__;s__\n",
      "317 0 k__Bacteria;p__Firmicutes;c__Clostridia;o__Clostridiales;f__Ruminococcaceae;g__Ruminococcus;s__callidus\n",
      "318 0 k__Bacteria;p__Firmicutes;c__Clostridia;o__Clostridiales;f__;g__;s__\n",
      "319 0 k__Bacteria;p__Firmicutes;c__Clostridia;o__Clostridiales;f__Ruminococcaceae\n",
      "320 0 k__Bacteria;p__Bacteroidetes;c__Bacteroidia;o__Bacteroidales;f__[Paraprevotellaceae];g__Paraprevotella;s__\n",
      "321 0 k__Bacteria;p__Firmicutes;c__Clostridia;o__Clostridiales;f__Lachnospiraceae\n",
      "322 0 k__Bacteria;p__Firmicutes;c__Clostridia;o__Clostridiales;f__Ruminococcaceae;g__;s__\n",
      "323 0 k__Bacteria;p__Firmicutes;c__Clostridia;o__Clostridiales;f__[Mogibacteriaceae];g__;s__\n",
      "324 0 k__Bacteria;p__Firmicutes;c__Clostridia;o__Clostridiales;f__Peptostreptococcaceae\n",
      "325 0 k__Bacteria;p__Firmicutes;c__Clostridia;o__Clostridiales;f__[Mogibacteriaceae];g__;s__\n",
      "326 0 k__Bacteria;p__Firmicutes;c__Clostridia;o__Clostridiales\n",
      "327 0 k__Bacteria;p__Proteobacteria;c__Gammaproteobacteria;o__Enterobacteriales;f__Enterobacteriaceae\n",
      "328 0 k__Bacteria;p__Firmicutes;c__Clostridia;o__Clostridiales;f__;g__;s__\n",
      "329 0 k__Bacteria;p__Firmicutes;c__Clostridia;o__Clostridiales;f__Lachnospiraceae\n",
      "330 0 k__Bacteria;p__Bacteroidetes;c__Bacteroidia;o__Bacteroidales;f__Rikenellaceae;g__;s__\n",
      "331 0 k__Bacteria;p__Firmicutes;c__Clostridia;o__Clostridiales;f__Lachnospiraceae\n",
      "332 0 k__Bacteria;p__Proteobacteria;c__Gammaproteobacteria;o__Pseudomonadales;f__Pseudomonadaceae;g__Pseudomonas;s__\n",
      "333 0 k__Bacteria;p__Firmicutes;c__Clostridia;o__Clostridiales;f__Ruminococcaceae;g__Ruminococcus\n",
      "334 0 k__Bacteria;p__Firmicutes;c__Clostridia;o__Clostridiales;f__;g__;s__\n",
      "335 0 k__Bacteria;p__Firmicutes;c__Clostridia;o__Clostridiales\n",
      "336 0 k__Bacteria;p__Proteobacteria;c__Deltaproteobacteria;o__Desulfovibrionales;f__Desulfovibrionaceae;g__Desulfovibrio;s__D168\n",
      "337 0 k__Bacteria;p__Tenericutes;c__Mollicutes;o__RF39;f__;g__;s__\n",
      "338 0 k__Bacteria;p__Firmicutes;c__Clostridia;o__Clostridiales;f__Ruminococcaceae;g__Ruminococcus;s__flavefaciens\n",
      "339 0 k__Bacteria;p__Firmicutes;c__Clostridia;o__Clostridiales;f__Ruminococcaceae;g__;s__\n",
      "340 0 k__Bacteria;p__Firmicutes;c__Clostridia;o__Clostridiales;f__Peptococcaceae;g__Peptococcus;s__\n",
      "341 0 k__Bacteria;p__Bacteroidetes;c__Bacteroidia;o__Bacteroidales;f__Bacteroidaceae;g__Bacteroides;s__\n",
      "342 0 k__Bacteria;p__Firmicutes;c__Clostridia;o__Clostridiales;f__;g__;s__\n",
      "343 0 k__Bacteria;p__Firmicutes;c__Clostridia;o__Clostridiales;f__Lachnospiraceae;g__Coprococcus;s__\n",
      "344 0 k__Bacteria;p__Bacteroidetes;c__Bacteroidia;o__Bacteroidales;f__Rikenellaceae;g__;s__\n",
      "345 0 k__Bacteria;p__Firmicutes;c__Clostridia;o__Clostridiales;f__Lachnospiraceae\n",
      "346 0 k__Bacteria;p__Firmicutes;c__Clostridia;o__Clostridiales;f__Ruminococcaceae;g__Ruminococcus;s__flavefaciens\n",
      "347 0 k__Bacteria;p__Bacteroidetes;c__Bacteroidia;o__Bacteroidales;f__Porphyromonadaceae;g__Parabacteroides;s__\n",
      "348 0 k__Bacteria;p__Firmicutes;c__Clostridia;o__Clostridiales;f__Ruminococcaceae;g__Oscillospira;s__\n",
      "349 0 k__Bacteria;p__Bacteroidetes;c__Bacteroidia;o__Bacteroidales;f__Bacteroidaceae;g__Bacteroides;s__\n",
      "350 0 k__Bacteria;p__Proteobacteria;c__Gammaproteobacteria;o__Enterobacteriales;f__Enterobacteriaceae;g__Morganella;s__\n",
      "351 0 k__Bacteria;p__Bacteroidetes;c__Bacteroidia;o__Bacteroidales;f__Bacteroidaceae;g__Bacteroides;s__\n",
      "352 0 k__Bacteria;p__Firmicutes;c__Clostridia;o__Clostridiales;f__Ruminococcaceae;g__Oscillospira;s__\n",
      "353 0 k__Bacteria;p__Firmicutes;c__Clostridia;o__Clostridiales;f__Ruminococcaceae;g__Faecalibacterium;s__prausnitzii\n",
      "354 0 k__Bacteria;p__Firmicutes;c__Clostridia;o__Clostridiales;f__Lachnospiraceae\n",
      "355 0 k__Bacteria;p__Firmicutes;c__Erysipelotrichi;o__Erysipelotrichales;f__Erysipelotrichaceae;g__cc_115;s__\n",
      "356 0 k__Bacteria;p__Firmicutes;c__Clostridia;o__Clostridiales;f__Ruminococcaceae;g__Ruminococcus;s__bromii\n",
      "357 0 k__Bacteria;p__Firmicutes;c__Clostridia;o__Clostridiales;f__Christensenellaceae;g__;s__\n",
      "358 0 k__Bacteria;p__Firmicutes;c__Clostridia;o__Clostridiales;f__Ruminococcaceae;g__Ruminococcus\n",
      "359 0 k__Bacteria;p__Firmicutes;c__Clostridia;o__Clostridiales;f__Peptococcaceae;g__rc4-4;s__\n",
      "360 0 k__Bacteria;p__Proteobacteria;c__Gammaproteobacteria;o__Enterobacteriales;f__Enterobacteriaceae;g__Providencia;s__\n",
      "361 0 k__Bacteria;p__Firmicutes;c__Clostridia;o__Clostridiales;f__Ruminococcaceae;g__Oscillospira;s__\n",
      "362 0 k__Bacteria;p__Firmicutes;c__Clostridia;o__Clostridiales;f__;g__;s__\n",
      "363 0 k__Bacteria;p__Firmicutes;c__Clostridia;o__Clostridiales;f__Ruminococcaceae;g__;s__\n",
      "364 0 k__Bacteria;p__Bacteroidetes;c__Bacteroidia;o__Bacteroidales;f__[Barnesiellaceae];g__;s__\n",
      "365 0 k__Bacteria;p__Firmicutes\n",
      "366 0 k__Bacteria;p__Firmicutes;c__Clostridia;o__Clostridiales;f__;g__;s__\n",
      "367 0 k__Bacteria;p__Proteobacteria;c__Betaproteobacteria;o__Burkholderiales;f__Alcaligenaceae;g__Sutterella;s__\n",
      "368 0 k__Bacteria;p__Firmicutes;c__Clostridia;o__Clostridiales;f__Christensenellaceae;g__;s__\n",
      "369 0 k__Bacteria;p__Firmicutes;c__Clostridia;o__Clostridiales;f__;g__;s__\n",
      "370 0 k__Bacteria;p__Firmicutes;c__Clostridia;o__Clostridiales;f__[Mogibacteriaceae];g__Mogibacterium;s__\n"
     ]
    }
   ],
   "source": [
    "bloom_seqs = []\n",
    "bloom_taxa = []\n",
    "\n",
    "for idx, extreme_seq in enumerate(order_list.index):\n",
    "    bloom_seqs.append(\n",
    "        '>%s\\n%s' % (extreme_seq, freeze_thaw.loc[extreme_seq, 'sequence'])\n",
    "        )\n",
    "    bloom_taxa.append(\n",
    "        '%s\\t%s' % (extreme_seq, freeze_thaw.loc[extreme_seq, 'taxonomy'])\n",
    "        )\n",
    "\n",
    "    print('%0d %i %s' % (idx + 1, \n",
    "                         extremes.loc[extreme_seq, 'm'],\n",
    "                         freeze_thaw.loc[extreme_seq, 'taxonomy'],\n",
    "                         ))\n",
    "    "
   ]
  },
  {
   "cell_type": "markdown",
   "metadata": {},
   "source": [
    "And now, we're going to write the sequences, and a subset of the sequences to files."
   ]
  },
  {
   "cell_type": "code",
   "execution_count": 58,
   "metadata": {
    "collapsed": false,
    "scrolled": true
   },
   "outputs": [],
   "source": [
    "with open('../data/newbloom.all.fna', 'w') as f_:\n",
    "    f_.write('\\n\\n'.join(bloom_seqs))\n",
    "\n",
    "with open('../data/newbloom.8.fa', 'w') as f_:\n",
    "    f_.write('\\n\\n'.join(bloom_seqs[:8]))\n",
    "    \n",
    "with open('../results/bloom_taxa.txt', 'w') as f_:\n",
    "    f_.write('\\n\\n'.join(bloom_taxa))"
   ]
  },
  {
   "cell_type": "markdown",
   "metadata": {},
   "source": [
    "# Taxa Plots"
   ]
  },
  {
   "cell_type": "markdown",
   "metadata": {},
   "source": [
    "Finally, we're going to look at the change in taxonomy across the four cross sectional experiments before and after bloom filtering. We'll first filter out the bloom sequences to identify the post-bloom table."
   ]
  },
  {
   "cell_type": "code",
   "execution_count": 59,
   "metadata": {
    "collapsed": false,
    "scrolled": true
   },
   "outputs": [],
   "source": [
    "f = lambda val, id_, md: id_ not in set(freeze_thaw.loc[order_list.index, 'sequence'].values)\n",
    "fec_sotu_post = fec_sotu_b.filter(f, inplace=False, axis='observation')"
   ]
  },
  {
   "cell_type": "markdown",
   "metadata": {},
   "source": [
    "Now, we're going to partition the samples and collapse to taxonomy. We'll look at gammaproteobacteria, where most of the bloom sequences come from, as well as the six most abundant classes."
   ]
  },
  {
   "cell_type": "markdown",
   "metadata": {},
   "source": [
    "Based on common class ..."
   ]
  },
  {
   "cell_type": "code",
   "execution_count": 60,
   "metadata": {
    "collapsed": false,
    "scrolled": true
   },
   "outputs": [],
   "source": [
    "sub_keep = ['c__Gammaproteobacteria',\n",
    "            'c__Clostridia',\n",
    "            'c__Bacteroidia',\n",
    "            'c__Actinobacteria',\n",
    "            'c__Erysipelotrichi',\n",
    "            'c__Bacilli',\n",
    "            'c__Mollicutes']"
   ]
  },
  {
   "cell_type": "markdown",
   "metadata": {},
   "source": [
    "Now that we have the classes identified, we're going to filter the pre and post bloom removal data, and generate tables."
   ]
  },
  {
   "cell_type": "code",
   "execution_count": 61,
   "metadata": {
    "collapsed": false,
    "scrolled": true
   },
   "outputs": [],
   "source": [
    "def collapse_by_subkeep(id_, md):\n",
    "    tax = md['taxonomy']\n",
    "    if len(tax) < 3:\n",
    "        return 'c__other'\n",
    "    elif tax[2] in sub_keep:\n",
    "        return tax[2]\n",
    "    else:\n",
    "        return 'c__other'"
   ]
  },
  {
   "cell_type": "code",
   "execution_count": 62,
   "metadata": {
    "collapsed": false,
    "scrolled": false
   },
   "outputs": [
    {
     "name": "stdout",
     "output_type": "stream",
     "text": [
      "Help on method collapse in module biom.table:\n",
      "\n",
      "collapse(f, collapse_f=None, norm=True, min_group_size=1, include_collapsed_metadata=True, one_to_many=False, one_to_many_mode='add', one_to_many_md_key='Path', strict=False, axis='sample') method of biom.table.Table instance\n",
      "    Collapse partitions in a table by metadata or by IDs\n",
      "    \n",
      "    Partition data by metadata or IDs and then collapse each partition into\n",
      "    a single vector.\n",
      "    \n",
      "    If `include_collapsed_metadata` is ``True``, the metadata for the\n",
      "    collapsed partition will be a category named 'collapsed_ids', in which\n",
      "    a list of the original ids that made up the partition is retained\n",
      "    \n",
      "    The remainder is only relevant to setting `one_to_many` to ``True``.\n",
      "    \n",
      "    If `one_to_many` is ``True``, allow vectors to collapse into multiple\n",
      "    bins if the metadata describe a one-many relationship. Supplied\n",
      "    functions must allow for iteration support over the metadata key and\n",
      "    must return a tuple of (path, bin) as to describe both the path in the\n",
      "    hierarchy represented and the specific bin being collapsed into. The\n",
      "    uniqueness of the bin is _not_ based on the path but by the name of the\n",
      "    bin.\n",
      "    \n",
      "    The metadata value for the corresponding collapsed column may include\n",
      "    more (or less) information about the collapsed data. For example, if\n",
      "    collapsing \"FOO\", and there are vectors that span three associations A,\n",
      "    B, and C, such that vector 1 spans A and B, vector 2 spans B and C and\n",
      "    vector 3 spans A and C, the resulting table will contain three\n",
      "    collapsed vectors:\n",
      "    \n",
      "    - A, containing original vectors 1 and 3\n",
      "    - B, containing original vectors 1 and 2\n",
      "    - C, containing original vectors 2 and 3\n",
      "    \n",
      "    If a vector maps to the same partition multiple times, it will be\n",
      "    counted multiple times.\n",
      "    \n",
      "    There are two supported modes for handling one-to-many relationships\n",
      "    via `one_to_many_mode`: ``add`` and `divide`. ``add`` will add the\n",
      "    vector counts to each partition that the vector maps to, which may\n",
      "    increase the total number of counts in the output table. ``divide``\n",
      "    will divide a vectors's counts by the number of metadata that the\n",
      "    vector has before adding the counts to each partition. This will not\n",
      "    increase the total number of counts in the output table.\n",
      "    \n",
      "    If `one_to_many_md_key` is specified, that becomes the metadata\n",
      "    key that describes the collapsed path. If a value is not specified,\n",
      "    then it defaults to 'Path'.\n",
      "    \n",
      "    If `strict` is specified, then all metadata pathways operated on\n",
      "    must be indexable by `metadata_f`.\n",
      "    \n",
      "    `one_to_many` and `norm` are not supported together.\n",
      "    \n",
      "    `one_to_many` and `collapse_f` are not supported together.\n",
      "    \n",
      "    `one_to_many` and `min_group_size` are not supported together.\n",
      "    \n",
      "    A final note on space consumption. At present, the `one_to_many`\n",
      "    functionality requires a temporary dense matrix representation.\n",
      "    \n",
      "    Parameters\n",
      "    ----------\n",
      "    f : function\n",
      "        Function that is used to determine what partition a vector belongs\n",
      "        to\n",
      "    collapse_f : function, optional\n",
      "        Function that collapses a partition in a one-to-one collapse. The\n",
      "        expected function signature is:\n",
      "    \n",
      "            dense or sparse_vector <- collapse_f(Table, axis)\n",
      "    \n",
      "        Defaults to a pairwise add.\n",
      "    \n",
      "    norm : bool, optional\n",
      "        Defaults to ``True``. If ``True``, normalize the resulting table\n",
      "    min_group_size : int, optional\n",
      "        Defaults to ``1``. The minimum size of a partition when performing\n",
      "        a one-to-one collapse\n",
      "    include_collapsed_metadata : bool, optional\n",
      "        Defaults to ``True``. If ``True``, retain the collapsed metadata\n",
      "        keyed by the original IDs of the associated vectors\n",
      "    one_to_many : bool, optional\n",
      "        Defaults to ``False``. Perform a one-to-many collapse\n",
      "    one_to_many_mode : {'add', 'divide'}, optional\n",
      "        The way to reduce two vectors in a one-to-many collapse\n",
      "    one_to_many_md_key : str, optional\n",
      "        Defaults to \"Path\". If `include_collapsed_metadata` is ``True``,\n",
      "        store the original vector metadata under this key\n",
      "    strict : bool, optional\n",
      "        Defaults to ``False``. Requires full pathway data within a\n",
      "        one-to-many structure\n",
      "    axis : {'sample', 'observation'}, optional\n",
      "        The axis to collapse\n",
      "    \n",
      "    Returns\n",
      "    -------\n",
      "    Table\n",
      "        The collapsed table\n",
      "    \n",
      "    Examples\n",
      "    --------\n",
      "    >>> import numpy as np\n",
      "    >>> from biom.table import Table\n",
      "    \n",
      "    Create a ``Table``\n",
      "    \n",
      "    >>> dt_rich = Table(\n",
      "    ...    np.array([[5, 6, 7], [8, 9, 10], [11, 12, 13]]),\n",
      "    ...    ['1', '2', '3'], ['a', 'b', 'c'],\n",
      "    ...    [{'taxonomy': ['k__a', 'p__b']},\n",
      "    ...     {'taxonomy': ['k__a', 'p__c']},\n",
      "    ...     {'taxonomy': ['k__a', 'p__c']}],\n",
      "    ...    [{'barcode': 'aatt'},\n",
      "    ...     {'barcode': 'ttgg'},\n",
      "    ...     {'barcode': 'aatt'}])\n",
      "    >>> print dt_rich # doctest: +NORMALIZE_WHITESPACE\n",
      "    # Constructed from biom file\n",
      "    #OTU ID a   b   c\n",
      "    1   5.0 6.0 7.0\n",
      "    2   8.0 9.0 10.0\n",
      "    3   11.0    12.0    13.0\n",
      "    \n",
      "    Create Function to determine what partition a vector belongs to\n",
      "    \n",
      "    >>> bin_f = lambda id_, x: x['taxonomy'][1]\n",
      "    >>> obs_phy = dt_rich.collapse(\n",
      "    ...    bin_f, norm=False, min_group_size=1,\n",
      "    ...    axis='observation').sort(axis='observation')\n",
      "    >>> print obs_phy # doctest: +NORMALIZE_WHITESPACE\n",
      "    # Constructed from biom file\n",
      "    #OTU ID a   b   c\n",
      "    p__b    5.0 6.0 7.0\n",
      "    p__c    19.0    21.0    23.0\n",
      "\n"
     ]
    }
   ],
   "source": [
    "help(fec_sotu_b.collapse)"
   ]
  },
  {
   "cell_type": "code",
   "execution_count": 63,
   "metadata": {
    "collapsed": false,
    "scrolled": true
   },
   "outputs": [
    {
     "data": {
      "text/plain": [
       "26712 x 8260 <class 'biom.table.Table'> with 1744257 nonzero entries (0% dense)"
      ]
     },
     "execution_count": 63,
     "metadata": {},
     "output_type": "execute_result"
    }
   ],
   "source": [
    "fec_sotu_b"
   ]
  },
  {
   "cell_type": "code",
   "execution_count": 64,
   "metadata": {
    "collapsed": false,
    "scrolled": true
   },
   "outputs": [
    {
     "ename": "TypeError",
     "evalue": "collapse_f() takes 1 positional argument but 2 were given",
     "output_type": "error",
     "traceback": [
      "\u001b[0;31m---------------------------------------------------------------------------\u001b[0m",
      "\u001b[0;31mTypeError\u001b[0m                                 Traceback (most recent call last)",
      "\u001b[0;32m<ipython-input-64-206bdc75def2>\u001b[0m in \u001b[0;36m<module>\u001b[0;34m()\u001b[0m\n\u001b[1;32m      6\u001b[0m                         \u001b[0mcollapse_f\u001b[0m\u001b[0;34m=\u001b[0m\u001b[0mcollapse_f\u001b[0m\u001b[0;34m,\u001b[0m\u001b[0;34m\u001b[0m\u001b[0m\n\u001b[1;32m      7\u001b[0m                         \u001b[0mnorm\u001b[0m\u001b[0;34m=\u001b[0m\u001b[0;32mTrue\u001b[0m\u001b[0;34m,\u001b[0m\u001b[0;34m\u001b[0m\u001b[0m\n\u001b[0;32m----> 8\u001b[0;31m                         axis='observation')\n\u001b[0m\u001b[1;32m      9\u001b[0m     ).T\n\u001b[1;32m     10\u001b[0m \u001b[0;31m# fec_pre = fec_pre.div()\u001b[0m\u001b[0;34m\u001b[0m\u001b[0;34m\u001b[0m\u001b[0m\n",
      "\u001b[0;32m/Users/mortonjt/miniconda3/envs/bloom/lib/python3.5/site-packages/biom/table.py\u001b[0m in \u001b[0;36mcollapse\u001b[0;34m(self, f, collapse_f, norm, min_group_size, include_collapsed_metadata, one_to_many, one_to_many_mode, one_to_many_md_key, strict, axis)\u001b[0m\n\u001b[1;32m   2363\u001b[0m                     \u001b[0;32mcontinue\u001b[0m\u001b[0;34m\u001b[0m\u001b[0m\n\u001b[1;32m   2364\u001b[0m \u001b[0;34m\u001b[0m\u001b[0m\n\u001b[0;32m-> 2365\u001b[0;31m                 \u001b[0mredux_data\u001b[0m \u001b[0;34m=\u001b[0m \u001b[0mcollapse_f\u001b[0m\u001b[0;34m(\u001b[0m\u001b[0mtable\u001b[0m\u001b[0;34m,\u001b[0m \u001b[0mself\u001b[0m\u001b[0;34m.\u001b[0m\u001b[0m_invert_axis\u001b[0m\u001b[0;34m(\u001b[0m\u001b[0maxis\u001b[0m\u001b[0;34m)\u001b[0m\u001b[0;34m)\u001b[0m\u001b[0;34m\u001b[0m\u001b[0m\n\u001b[0m\u001b[1;32m   2366\u001b[0m                 \u001b[0;32mif\u001b[0m \u001b[0mnorm\u001b[0m\u001b[0;34m:\u001b[0m\u001b[0;34m\u001b[0m\u001b[0m\n\u001b[1;32m   2367\u001b[0m                     \u001b[0mredux_data\u001b[0m \u001b[0;34m/=\u001b[0m \u001b[0mlen\u001b[0m\u001b[0;34m(\u001b[0m\u001b[0maxis_ids\u001b[0m\u001b[0;34m)\u001b[0m\u001b[0;34m\u001b[0m\u001b[0m\n",
      "\u001b[0;31mTypeError\u001b[0m: collapse_f() takes 1 positional argument but 2 were given"
     ]
    }
   ],
   "source": [
    "def collapse_f(x):\n",
    "    return np.sum(x)\n",
    "\n",
    "fec_pre = exploding_panda(\n",
    "    fec_sotu_b.collapse(f=collapse_by_subkeep, \n",
    "                        collapse_f=collapse_f,\n",
    "                        norm=True,\n",
    "                        axis='observation')\n",
    "    ).T\n",
    "# fec_pre = fec_pre.div()\n",
    "# fec_pre['STUDY'] = fec_meta['STUDY']\n",
    "# fec_pre.groupby('STUDY').mean()"
   ]
  },
  {
   "cell_type": "code",
   "execution_count": null,
   "metadata": {
    "collapsed": true,
    "scrolled": true
   },
   "outputs": [],
   "source": []
  },
  {
   "cell_type": "code",
   "execution_count": null,
   "metadata": {
    "collapsed": false,
    "scrolled": true
   },
   "outputs": [],
   "source": [
    "fec_pre"
   ]
  },
  {
   "cell_type": "code",
   "execution_count": null,
   "metadata": {
    "collapsed": false,
    "scrolled": true
   },
   "outputs": [],
   "source": [
    "fec_post = exploding_panda(fec_sotu_post.collapse(collapse_by_subkeep, axis='observation')).T\n",
    "fec_post['STUDY'] = fec_meta['STUDY']"
   ]
  },
  {
   "cell_type": "markdown",
   "metadata": {},
   "source": [
    "## Plot the pre-filtered taxonomy plot"
   ]
  },
  {
   "cell_type": "code",
   "execution_count": null,
   "metadata": {
    "collapsed": false,
    "scrolled": true
   },
   "outputs": [],
   "source": [
    "# collapes the samples to one per study (using mean value for each sOTU)\n",
    "allfpre=hs.filtersimilarsamples(allf,'origexp',method='mean')"
   ]
  },
  {
   "cell_type": "code",
   "execution_count": null,
   "metadata": {
    "collapsed": true,
    "scrolled": true
   },
   "outputs": [],
   "source": [
    "# sort by original experiment\n",
    "allfpre=hs.sortsamples(allfpre,'origexp')"
   ]
  },
  {
   "cell_type": "code",
   "execution_count": null,
   "metadata": {
    "collapsed": false,
    "scrolled": true
   },
   "outputs": [],
   "source": [
    "hs.getfieldvals(allfpre,'origexp')"
   ]
  },
  {
   "cell_type": "code",
   "execution_count": null,
   "metadata": {
    "collapsed": true,
    "scrolled": true
   },
   "outputs": [],
   "source": [
    "# give nices names to the experiment (for the plot)\n",
    "hs.addfield(allfpre,'expname',['AG-pre','EWF-pre','PGP-pre','UKTwins-pre'])"
   ]
  },
  {
   "cell_type": "code",
   "execution_count": null,
   "metadata": {
    "collapsed": true,
    "scrolled": true
   },
   "outputs": [],
   "source": [
    "sn.set_style(\"white\")"
   ]
  },
  {
   "cell_type": "code",
   "execution_count": null,
   "metadata": {
    "collapsed": false,
    "scrolled": true
   },
   "outputs": [],
   "source": [
    "# plot the taxonomy bar graph (normalized to 100% per study)\n",
    "taxlist=hs.plottaxonomybar(allfpre,sortfield='expname',showlegend=False,showxlabels=True,rotation=0,sumone=True)"
   ]
  },
  {
   "cell_type": "code",
   "execution_count": null,
   "metadata": {
    "collapsed": false,
    "scrolled": true
   },
   "outputs": [],
   "source": [
    "plt.savefig('../results/fig2C_taxonomy-4exp-nofiltering.pdf')"
   ]
  },
  {
   "cell_type": "markdown",
   "metadata": {},
   "source": [
    "## plot the post-filtering taxonomy plot"
   ]
  },
  {
   "cell_type": "code",
   "execution_count": null,
   "metadata": {
    "collapsed": true,
    "scrolled": true
   },
   "outputs": [],
   "source": [
    "# filter the 8 blooming bacteria\n",
    "allfpost=hs.filterseqs(allf,newbloom[:8],exclude=True)"
   ]
  },
  {
   "cell_type": "code",
   "execution_count": null,
   "metadata": {
    "collapsed": false,
    "scrolled": true
   },
   "outputs": [],
   "source": [
    "# collapes the samples to one per study (using mean value for each sOTU)\n",
    "allfpost=hs.filtersimilarsamples(allfpost,'origexp',method='mean')"
   ]
  },
  {
   "cell_type": "code",
   "execution_count": null,
   "metadata": {
    "collapsed": true,
    "scrolled": true
   },
   "outputs": [],
   "source": [
    "# sort by original experiment\n",
    "allfpost=hs.sortsamples(allfpost,'origexp')"
   ]
  },
  {
   "cell_type": "code",
   "execution_count": null,
   "metadata": {
    "collapsed": false,
    "scrolled": true
   },
   "outputs": [],
   "source": [
    "hs.getfieldvals(allfpost,'origexp')"
   ]
  },
  {
   "cell_type": "code",
   "execution_count": null,
   "metadata": {
    "collapsed": true,
    "scrolled": true
   },
   "outputs": [],
   "source": [
    "# give nices names to the experiment (for the plot)\n",
    "hs.addfield(allfpost,'expname',['AG-post','EWF-post','PGP-post','UKTwins-post'])"
   ]
  },
  {
   "cell_type": "code",
   "execution_count": null,
   "metadata": {
    "collapsed": false,
    "scrolled": true
   },
   "outputs": [],
   "source": [
    "sn.set_style(\"white\",{'legend.frameon':True})\n",
    "sn.set_context(\"notebook\")"
   ]
  },
  {
   "cell_type": "code",
   "execution_count": null,
   "metadata": {
    "collapsed": false,
    "scrolled": true
   },
   "outputs": [],
   "source": [
    "# plot the taxonomy bar graph (normalized to 100% per study). Use same phylum order as previous taxonomy plot\n",
    "hs.plottaxonomybar(allfpost,sortfield='expname',showlegend=False,showxlabels=True,rotation=0,sumone=True,taxorder=taxlist.tax)"
   ]
  },
  {
   "cell_type": "code",
   "execution_count": null,
   "metadata": {
    "collapsed": true,
    "scrolled": true
   },
   "outputs": [],
   "source": [
    "plt.savefig('../results/fig2C_taxonomy-4exp-withfiltering-8.pdf')"
   ]
  },
  {
   "cell_type": "markdown",
   "metadata": {},
   "source": [
    "## and for the legend"
   ]
  },
  {
   "cell_type": "code",
   "execution_count": null,
   "metadata": {
    "collapsed": false,
    "scrolled": true
   },
   "outputs": [],
   "source": [
    "# plot with legend (we just cut out the legend in the figure)\n",
    "hs.plottaxonomybar(allfpre,sortfield='expname',showlegend=True,showxlabels=True,rotation=0,sumone=True)"
   ]
  },
  {
   "cell_type": "code",
   "execution_count": null,
   "metadata": {
    "collapsed": true,
    "scrolled": true
   },
   "outputs": [],
   "source": [
    "plt.savefig('../results/fig2C_taxonomy-4exp-forlegend.pdf')"
   ]
  },
  {
   "cell_type": "markdown",
   "metadata": {
    "collapsed": true
   },
   "source": [
    "In conclusion, we can take advantage of the microbes identified to be blooming in previous studies, combined with comparison between shipped and fresh frozen samples, to identify candidate taxa that bloom in storage conditions in the American Gut project.\n",
    "\n",
    "An advantage of performing such analysis on a sub-OTU level (i.e. the output of the Deblur algorithm), is that we can identify and remove the exact blooming bacterial sequences, whereas using traditional OTU based methods would require removal of the blooming bacteria and all close sequences, which can lead to much higher numbers of bacteria removed.\n",
    "\n",
    "Note that choosing the number of candidate blooming bacteria to remove is a type-1/type-2 balance. Removal of more bacteria will reduce the effect of shipment, at the cost of losing more bacteria for analysis.\n",
    "\n",
    "While all bacteria may change during shipment, it seems only a small number of them exhibit a drastic growth. By removal of as little as the top 8 blooming bacteria, we can greatly reduce the effect of shipment. This leads to a great reduction in the noise within American Gut samples (since not all samples are undergo the same shipment conditions/duration), as well as enable comparison to other, fresh frozen studies.\n"
   ]
  },
  {
   "cell_type": "markdown",
   "metadata": {
    "collapsed": true
   },
   "source": [
    "# References\n",
    "<ol><li><a id='1'></a>Song, S.J., Amir, A.; Metcalf, J.L.; Amato, K.R.; Xu, Z.Z.; Humphrey, G.; Knight, R. (2016). \"<a href=\"http://msystems.asm.org/content/1/3/e00021-16\">Preservation Methods Differ in Fecal Microbiome Stability, Affecting Suitability for Field Studies</a>. <em>mSystems</em>. 1: e00021-16\n",
    "</li><li><a id=\"2\"></a>Sinha, R.; Chen, J.; Amir, A,; Vogtmann, E.; Shi, J.; Inman, K.S.; Flores, R.; Sampson, J.; Knight, R.; Chia, N. (2016) \"<a href=\"https://www.ncbi.nlm.nih.gov/pubmed/26604270\">Collecting fecal samples for microbiome analyses in epidemiology studies.</a>\" <em>Cancer Epidemiol Biomarkers Prev</em> 25: 407-416.\n",
    "</li><li><a id=\"3\"></a>Goodrich, J.K.; Waters, J.L.; Poole, A.C.; Sutter, J.L.; Blekhman, R.; Beaumont, M.; Van Treuren, W.; Knight, R.; Bell, J.T.; Spector, T.D.; Clark, A.G.; Ley, R.E. (2014). \"<a href=\"https://www.ncbi.nlm.nih.gov/pubmed/25417156\">Human genetics shape the gut microbiome</a>.\" <em>Cell</em>. 159: 789-799.\n",
    "</li><li><a id=\"4\"></a>Vitaglione, P.; Mennella, I.; Ferracane, R.; Rivellese, A.A.; Giacco, R.; Ercolini, D.; Gibbons, S.; La Storia, A.; Gilbert, J.A.; Jonnalagadda, S.; Thielecke, F.; Galo, M.A.; Scalfi, L.; Fogliano, V. (2015). \"<a href=\"https://www.ncbi.nlm.nih.gov/pubmed/25646321\">Whole-grain wheat consumption reduces inflammation in a randomized controlled trial on overweight and obese subjects with unhealthy dietary and lifestyle behaviors: role of polyphenols bound to cereal dietary fiber</a>.\" <em>Am J Clin Nutr</em> 101: 251-261.\n",
    "</li><li><a id=\"5\"></a>Mandal, S.; Van Treuren, W.; White, R.A.; Eggesbo, M.; Knight, R.; Peddada, S.D (2015) \"<a href=\"https://www.ncbi.nlm.nih.gov/pubmed/26028277\">Analysis of composition of microbiomes: a novel method for studying microbial composition</a>.\" <em>Microb Ecol Health Dis</em> 29:27663.\n",
    "</li></ol>"
   ]
  },
  {
   "cell_type": "markdown",
   "metadata": {},
   "source": [
    " "
   ]
  }
 ],
 "metadata": {
  "anaconda-cloud": {},
  "kernelspec": {
   "display_name": "Python [default]",
   "language": "python",
   "name": "python3"
  },
  "language_info": {
   "codemirror_mode": {
    "name": "ipython",
    "version": 3
   },
   "file_extension": ".py",
   "mimetype": "text/x-python",
   "name": "python",
   "nbconvert_exporter": "python",
   "pygments_lexer": "ipython3",
   "version": "3.5.2"
  }
 },
 "nbformat": 4,
 "nbformat_minor": 0
}
